{
 "cells": [
  {
   "cell_type": "markdown",
   "id": "002cfedb",
   "metadata": {},
   "source": [
    "\n",
    "Italy Energy System Optimization - Brownfield Analysis with ETS1 and ETS2\n",
    "==========================================================================\n",
    "\n",
    "This script creates an energy system optimization model for Italy as a whole system,\n",
    "studying the effects of ETS1 (EU Emissions Trading System) and ETS2 (new ETS for \n",
    "buildings and transport) on the optimal design and operation of energy technologies.\n",
    "\n",
    "The analysis includes:\n",
    "1. Baseline optimization without ETS\n",
    "2. Optimization with ETS1 only\n",
    "3. Optimization with both ETS1 and ETS2\n",
    "4. Comparative analysis of results"
   ]
  },
  {
   "cell_type": "code",
   "execution_count": 1,
   "id": "fbebad42",
   "metadata": {},
   "outputs": [
    {
     "name": "stdout",
     "output_type": "stream",
     "text": [
      "Files already exist: italy_baseline\\Topology.json italy_baseline\\ConfigModel.json\n"
     ]
    }
   ],
   "source": [
    "import adopt_net0 as adopt\n",
    "import json\n",
    "import pandas as pd\n",
    "from pathlib import Path\n",
    "import numpy as np\n",
    "\n",
    "# Create folder for results\n",
    "results_data_path = Path(\"./italy_results\")\n",
    "results_data_path.mkdir(parents=True, exist_ok=True)\n",
    "# Create input data path and optimization templates\n",
    "input_data_path_baseline = Path(\"./italy_baseline\")\n",
    "input_data_path_baseline.mkdir(parents=True, exist_ok=True)\n",
    "adopt.create_optimization_templates(input_data_path_baseline)"
   ]
  },
  {
   "cell_type": "code",
   "execution_count": 3,
   "id": "63c69661",
   "metadata": {},
   "outputs": [],
   "source": [
    "# Load json template\n",
    "with open(input_data_path_baseline / \"Topology.json\", \"r\") as json_file:\n",
    "    topology = json.load(json_file)\n",
    "# Nodes\n",
    "topology[\"nodes\"] = [\"Northwest\", \"Northeast\", \"Center\", \"South\", \"Islands\"]\n",
    "# Carriers:\n",
    "topology[\"carriers\"] = [\"electricity\", \"heat\", \"gas\", \"hydrogen\"]\n",
    "# Investment periods:\n",
    "topology[\"investment_periods\"] = [\"period1\", \"period2\", \"period3\"]\n",
    "# Save json template\n",
    "with open(input_data_path_baseline / \"Topology.json\", \"w\") as json_file:\n",
    "    json.dump(topology, json_file, indent=4)"
   ]
  },
  {
   "cell_type": "code",
   "execution_count": 4,
   "id": "e9e37abd",
   "metadata": {},
   "outputs": [],
   "source": [
    "# Load json template\n",
    "with open(input_data_path_baseline / \"ConfigModel.json\", \"r\") as json_file:\n",
    "    configuration = json.load(json_file)\n",
    "# Change objective\n",
    "configuration[\"optimization\"][\"objective\"][\"value\"] = \"costs\"\n",
    "# Set MILP gap\n",
    "configuration[\"solveroptions\"][\"mipgap\"][\"value\"] = 0.02\n",
    "# Save json template\n",
    "with open(input_data_path_baseline / \"ConfigModel.json\", \"w\") as json_file:\n",
    "    json.dump(configuration, json_file, indent=4)"
   ]
  },
  {
   "cell_type": "code",
   "execution_count": 5,
   "id": "3d847648",
   "metadata": {},
   "outputs": [],
   "source": [
    "adopt.create_input_data_folder_template(input_data_path_baseline)\n",
    "\n",
    "# Add technologies for each period\n",
    "for period in [\"period1\", \"period2\", \"period3\"]:\n",
    "    for node in  [\"Northwest\", \"Northeast\", \"Center\", \"South\", \"Islands\"]:\n",
    "        tech_path = input_data_path_baseline / period / \"node_data\" / node / \"Technologies.json\"\n",
    "        \n",
    "        # Regional scaling factors based on Italian macro regions\n",
    "        if node == \"Northwest\":  # Liguria, Lombardy, Piedmont, Valle d'Aosta\n",
    "            scale = 0.35 # Largest industrial region\n",
    "        elif node == \"Northeast\": # Emilia-Romagna, Friuli, Trentino, Veneto\n",
    "            scale = 0.25  # Strong industrial and agricultural region\n",
    "        elif node == \"Center\":  # Lazio, Marche, Tuscany, Umbria\n",
    "            scale = 0.20  # Central Italy with Rome\n",
    "        elif node == \"South\":  # Abruzzo, Basilicata, Calabria, Campania, Molise, Puglia\n",
    "            scale = 0.15  # Southern mainland Italy\n",
    "        else:  # Islands\n",
    "            scale = 0.05  # Islands\n",
    "\n",
    "        technologies = {\n",
    "            \"new\": [\"Photovoltaic\", \"HeatPump_AirSourced\", \"Storage_Battery\", \n",
    "                   \"WindTurbine_Onshore_4000\", \"Storage_H2\", \"WindTurbine_Offshore_9500\"],\n",
    "            \"existing\": {\n",
    "                \"GasTurbine_simple\": int(20000 * scale),\n",
    "                \"Boiler_Small_NG\": int(15000 * scale)\n",
    "            }\n",
    "        }\n",
    "        \n",
    "        with open(tech_path, \"w\") as json_file:\n",
    "            json.dump(technologies, json_file, indent=4)\n",
    "\n",
    "# Copy over technology files\n",
    "adopt.copy_technology_data(input_data_path_baseline)\n",
    "\n",
    "# Specify location of the households\n",
    "# Specify locations\n",
    "node_location = pd.read_csv(input_data_path_baseline / \"NodeLocations.csv\", sep=';', index_col=0, header=0)\n",
    "locations = {\n",
    "    'Northwest': [8.95, 45.47, 250],    # Milan/Turin area (industrial northwest)\n",
    "    'Northeast': [11.88, 45.41, 150],   # Venice/Bologna area (northeast)\n",
    "    'Center': [12.49, 42.35, 200],      # Rome/Florence area (central Italy)\n",
    "    'South': [15.55, 40.64, 150],       # Naples/Bari area (southern Italy)\n",
    "    'Islands': [13.36, 38.12, 200]      # Palermo/Cagliari area (Sicily/Sardinia)\n",
    "}\n",
    "\n",
    "for node, coords in locations.items():\n",
    "    node_location.at[node, 'lon'] = coords[0]\n",
    "    node_location.at[node, 'lat'] = coords[1]\n",
    "    node_location.at[node, 'alt'] = coords[2]\n",
    "\n",
    "node_location = node_location.reset_index()\n",
    "node_location.to_csv(input_data_path_baseline / \"NodeLocations.csv\", sep=';', index=False)"
   ]
  },
  {
   "cell_type": "markdown",
   "id": "e242cb4c",
   "metadata": {},
   "source": [
    "=================================================================================="
   ]
  },
  {
   "cell_type": "code",
   "execution_count": 6,
   "id": "472b1ae5",
   "metadata": {},
   "outputs": [],
   "source": [
    "# Load demand data - scale household data to Italy level\n",
    "household_data = adopt.load_household_data()\n",
    "\n",
    "# Italy annual demands (TWh scaled to MW profiles)\n",
    "italy_electricity_scale = 320000 / (household_data.iloc[:, 1].sum() / 1000)  # Scale to 320 TWh\n",
    "italy_heat_scale = 200000 / (household_data.iloc[:, 0].sum() / 1000)  # Scale to 200 TWh\n",
    "\n",
    "\n",
    "for period in [\"period1\", \"period2\", \"period3\"]:\n",
    "    for node in [\"Northwest\", \"Northeast\", \"Center\", \"South\", \"Islands\"]:\n",
    "        # Regional scaling\n",
    "        if node == \"Northwest\":\n",
    "            regional_scale = 0.35\n",
    "        elif node == \"Northeast\":\n",
    "            regional_scale = 0.25\n",
    "        elif node == \"Center\":\n",
    "            regional_scale = 0.20\n",
    "        elif node == \"South\":\n",
    "            regional_scale = 0.15\n",
    "        else:  # Islands\n",
    "            regional_scale = 0.05\n",
    "        \n",
    "        # Create demand profiles\n",
    "        el_demand = household_data.iloc[:, 1] * italy_electricity_scale * regional_scale\n",
    "        heat_demand = household_data.iloc[:, 0] * italy_heat_scale * regional_scale\n",
    "        \n",
    "        # Fill demand data\n",
    "        adopt.fill_carrier_data(input_data_path_baseline, value_or_data=el_demand, columns=['Demand'], carriers=['electricity'], nodes=[node])\n",
    "        adopt.fill_carrier_data(input_data_path_baseline, value_or_data=heat_demand, columns=['Demand'], carriers=['heat'], nodes=[node])"
   ]
  },
  {
   "cell_type": "code",
   "execution_count": 7,
   "id": "3f6920a4",
   "metadata": {},
   "outputs": [],
   "source": [
    "# Set baseline energy prices (no carbon cost)\n",
    "for period in [\"period1\", \"period2\", \"period3\"]:\n",
    "    for node in [\"North_Italy\", \"Central_Italy\", \"South_Italy\", \"Sardinia\"]:\n",
    "        adopt.fill_carrier_data(input_data_path_baseline, value_or_data=80, columns=['Import price'], carriers=['gas'], nodes=[node])\n",
    "        adopt.fill_carrier_data(input_data_path_baseline, value_or_data=100, columns=['Import price'], carriers=['electricity'], nodes=[node])\n",
    "        adopt.fill_carrier_data(input_data_path_baseline, value_or_data=10000, columns=['Import limit'], carriers=['gas'], nodes=[node])"
   ]
  },
  {
   "cell_type": "code",
   "execution_count": 8,
   "id": "d91c1082",
   "metadata": {},
   "outputs": [],
   "source": [
    "# Set carbon cost to zero (baseline)\n",
    "for period in [\"period1\", \"period2\", \"period3\"]:\n",
    "    for node in [\"Northwest\", \"Northeast\", \"Center\", \"South\", \"Islands\"]:\n",
    "        carbon_cost_path = input_data_path_baseline / period / \"node_data\" / node / \"CarbonCost.csv\"\n",
    "        if carbon_cost_path.exists():\n",
    "            carbon_cost = pd.read_csv(carbon_cost_path, sep=';', index_col=0, header=0)\n",
    "            carbon_cost['price'] = np.zeros(8760)\n",
    "            carbon_cost = carbon_cost.reset_index()\n",
    "            carbon_cost.to_csv(carbon_cost_path, sep=';', index=False)\n"
   ]
  },
  {
   "cell_type": "code",
   "execution_count": 8,
   "id": "33a31815",
   "metadata": {},
   "outputs": [
    {
     "name": "stderr",
     "output_type": "stream",
     "text": [
      "--- Reading in data ---\n",
      "Input data folder has been checked successfully - no errors occurred.\n",
      "Reading data from italy_baseline\n",
      "Topology read successfully\n",
      "Model Configuration read successfully\n",
      "Time series read successfully\n",
      "Node Locations read successfully\n",
      "Energy balance options read successfully\n",
      "Deriving performance data for Heat Pump...\n"
     ]
    },
    {
     "name": "stdout",
     "output_type": "stream",
     "text": [
      "Complete:  99.0 %99999999999 %%Complete:  100 %\n"
     ]
    },
    {
     "name": "stderr",
     "output_type": "stream",
     "text": [
      "Deriving performance data for Heat Pump...\n"
     ]
    },
    {
     "name": "stdout",
     "output_type": "stream",
     "text": [
      "Complete:  99.0 %Complete:  100 %\n"
     ]
    },
    {
     "name": "stderr",
     "output_type": "stream",
     "text": [
      "Deriving performance data for Heat Pump...\n"
     ]
    },
    {
     "name": "stdout",
     "output_type": "stream",
     "text": [
      "Complete:  99.0 %Complete:  100 %\n"
     ]
    },
    {
     "name": "stderr",
     "output_type": "stream",
     "text": [
      "Deriving performance data for Heat Pump...\n"
     ]
    },
    {
     "name": "stdout",
     "output_type": "stream",
     "text": [
      "Complete:  99.0 %Complete:  100 %\n"
     ]
    },
    {
     "name": "stderr",
     "output_type": "stream",
     "text": [
      "Deriving performance data for Heat Pump...\n"
     ]
    },
    {
     "name": "stdout",
     "output_type": "stream",
     "text": [
      "Complete:  99.0 %Complete:  100 %\n"
     ]
    },
    {
     "name": "stderr",
     "output_type": "stream",
     "text": [
      "Deriving performance data for Heat Pump...\n"
     ]
    },
    {
     "name": "stdout",
     "output_type": "stream",
     "text": [
      "Complete:  99.0 %Complete:  100 %\n"
     ]
    },
    {
     "name": "stderr",
     "output_type": "stream",
     "text": [
      "Deriving performance data for Heat Pump...\n"
     ]
    },
    {
     "name": "stdout",
     "output_type": "stream",
     "text": [
      "Complete:  99.0 %Complete:  100 %\n"
     ]
    },
    {
     "name": "stderr",
     "output_type": "stream",
     "text": [
      "Deriving performance data for Heat Pump...\n"
     ]
    },
    {
     "name": "stdout",
     "output_type": "stream",
     "text": [
      "Complete:  99.0 %Complete:  100 %\n"
     ]
    },
    {
     "name": "stderr",
     "output_type": "stream",
     "text": [
      "Deriving performance data for Heat Pump...\n"
     ]
    },
    {
     "name": "stdout",
     "output_type": "stream",
     "text": [
      "Complete:  99.0 %99999999999 %%Complete:  100 %\n"
     ]
    },
    {
     "name": "stderr",
     "output_type": "stream",
     "text": [
      "Deriving performance data for Heat Pump...\n"
     ]
    },
    {
     "name": "stdout",
     "output_type": "stream",
     "text": [
      "Complete:  99.0 %Complete:  100 %\n"
     ]
    },
    {
     "name": "stderr",
     "output_type": "stream",
     "text": [
      "Deriving performance data for Heat Pump...\n"
     ]
    },
    {
     "name": "stdout",
     "output_type": "stream",
     "text": [
      "Complete:  99.0 %Complete:  100 %\n"
     ]
    },
    {
     "name": "stderr",
     "output_type": "stream",
     "text": [
      "Deriving performance data for Heat Pump...\n"
     ]
    },
    {
     "name": "stdout",
     "output_type": "stream",
     "text": [
      "Complete:  99.0 %Complete:  100 %\n"
     ]
    },
    {
     "name": "stderr",
     "output_type": "stream",
     "text": [
      "Deriving performance data for Heat Pump...\n"
     ]
    },
    {
     "name": "stdout",
     "output_type": "stream",
     "text": [
      "Complete:  99.0 %Complete:  100 %\n"
     ]
    },
    {
     "name": "stderr",
     "output_type": "stream",
     "text": [
      "Deriving performance data for Heat Pump...\n"
     ]
    },
    {
     "name": "stdout",
     "output_type": "stream",
     "text": [
      "Complete:  99.0 %99999999999 %%Complete:  100 %\n"
     ]
    },
    {
     "name": "stderr",
     "output_type": "stream",
     "text": [
      "Deriving performance data for Heat Pump...\n"
     ]
    },
    {
     "name": "stdout",
     "output_type": "stream",
     "text": [
      "Complete:  99.0 %Complete:  100 %\n"
     ]
    },
    {
     "name": "stderr",
     "output_type": "stream",
     "text": [
      "Technology data read successfully\n",
      "Network data read successfully\n",
      "--- Reading in data complete ---\n",
      "--- Constructing Model ---\n",
      "Set parameter Username\n",
      "Set parameter LicenseID to value 2671115\n",
      "Academic license - for non-commercial use only - expires 2026-05-26\n",
      "Constructing Investment Period period1\n",
      "Constructing Investment Period period1 completed\n",
      "\t - Adding Technology Photovoltaic\n",
      "DEPRECATED: Using __getitem__ to return a set value from its (ordered)\n",
      "position is deprecated.  Please use at()  (deprecated in 6.1, will be\n",
      "removed in (or after) 7.0)\n",
      "(called from c:\\Users\\Jamme002\\OneDrive - Universiteit Utrecht\\Documents\\YOU\\adopt_net0\\components\\technologies\\technology.py:931)\n",
      "\t - Adding Technology HeatPump_AirSourced\n",
      "\t - Adding Technology Storage_Battery\n",
      "\t\t\tgdp.bigm Transformation...\n",
      "\t\t\tgdp.bigm Transformation completed in 17 s\n",
      "\t - Adding Technology WindTurbine_Onshore_4000\n",
      "\t - Adding Technology Storage_H2\n",
      "\t\t\tgdp.bigm Transformation...\n",
      "\t\t\tgdp.bigm Transformation completed in 15 s\n",
      "\t - Adding Technology WindTurbine_Offshore_9500\n",
      "\t - Adding Technology GasTurbine_simple_existing\n",
      "\t - Adding Technology Boiler_Small_NG_existing\n",
      "\t - Adding Technology Photovoltaic\n",
      "\t - Adding Technology HeatPump_AirSourced\n",
      "\t - Adding Technology Storage_Battery\n",
      "\t\t\tgdp.bigm Transformation...\n",
      "\t\t\tgdp.bigm Transformation completed in 15 s\n",
      "\t - Adding Technology WindTurbine_Onshore_4000\n",
      "\t - Adding Technology Storage_H2\n",
      "\t\t\tgdp.bigm Transformation...\n",
      "\t\t\tgdp.bigm Transformation completed in 14 s\n",
      "\t - Adding Technology WindTurbine_Offshore_9500\n",
      "\t - Adding Technology GasTurbine_simple_existing\n",
      "\t - Adding Technology Boiler_Small_NG_existing\n",
      "\t - Adding Technology Photovoltaic\n",
      "\t - Adding Technology HeatPump_AirSourced\n",
      "\t - Adding Technology Storage_Battery\n",
      "\t\t\tgdp.bigm Transformation...\n",
      "\t\t\tgdp.bigm Transformation completed in 18 s\n",
      "\t - Adding Technology WindTurbine_Onshore_4000\n",
      "\t - Adding Technology Storage_H2\n",
      "\t\t\tgdp.bigm Transformation...\n",
      "\t\t\tgdp.bigm Transformation completed in 18 s\n",
      "\t - Adding Technology WindTurbine_Offshore_9500\n",
      "\t - Adding Technology GasTurbine_simple_existing\n",
      "\t - Adding Technology Boiler_Small_NG_existing\n",
      "\t - Adding Technology Photovoltaic\n",
      "\t - Adding Technology HeatPump_AirSourced\n",
      "\t - Adding Technology Storage_Battery\n",
      "\t\t\tgdp.bigm Transformation...\n",
      "\t\t\tgdp.bigm Transformation completed in 17 s\n",
      "\t - Adding Technology WindTurbine_Onshore_4000\n",
      "\t - Adding Technology Storage_H2\n",
      "\t\t\tgdp.bigm Transformation...\n",
      "\t\t\tgdp.bigm Transformation completed in 16 s\n",
      "\t - Adding Technology WindTurbine_Offshore_9500\n",
      "\t - Adding Technology GasTurbine_simple_existing\n",
      "\t - Adding Technology Boiler_Small_NG_existing\n",
      "\t - Adding Technology Photovoltaic\n",
      "\t - Adding Technology HeatPump_AirSourced\n",
      "\t - Adding Technology Storage_Battery\n",
      "\t\t\tgdp.bigm Transformation...\n",
      "\t\t\tgdp.bigm Transformation completed in 19 s\n",
      "\t - Adding Technology WindTurbine_Onshore_4000\n",
      "\t - Adding Technology Storage_H2\n",
      "\t\t\tgdp.bigm Transformation...\n",
      "\t\t\tgdp.bigm Transformation completed in 16 s\n",
      "\t - Adding Technology WindTurbine_Offshore_9500\n",
      "\t - Adding Technology GasTurbine_simple_existing\n",
      "\t - Adding Technology Boiler_Small_NG_existing\n",
      "Constructing Investment Period period2\n",
      "Constructing Investment Period period2 completed\n",
      "\t - Adding Technology Photovoltaic\n",
      "\t - Adding Technology HeatPump_AirSourced\n",
      "\t - Adding Technology Storage_Battery\n",
      "\t\t\tgdp.bigm Transformation...\n",
      "\t\t\tgdp.bigm Transformation completed in 34 s\n",
      "\t - Adding Technology WindTurbine_Onshore_4000\n",
      "\t - Adding Technology Storage_H2\n",
      "\t\t\tgdp.bigm Transformation...\n",
      "\t\t\tgdp.bigm Transformation completed in 37 s\n",
      "\t - Adding Technology WindTurbine_Offshore_9500\n",
      "\t - Adding Technology GasTurbine_simple_existing\n",
      "\t - Adding Technology Boiler_Small_NG_existing\n",
      "\t - Adding Technology Photovoltaic\n",
      "\t - Adding Technology HeatPump_AirSourced\n",
      "\t - Adding Technology Storage_Battery\n",
      "\t\t\tgdp.bigm Transformation...\n",
      "\t\t\tgdp.bigm Transformation completed in 32 s\n",
      "\t - Adding Technology WindTurbine_Onshore_4000\n",
      "\t - Adding Technology Storage_H2\n",
      "\t\t\tgdp.bigm Transformation...\n",
      "\t\t\tgdp.bigm Transformation completed in 25 s\n",
      "\t - Adding Technology WindTurbine_Offshore_9500\n",
      "\t - Adding Technology GasTurbine_simple_existing\n",
      "\t - Adding Technology Boiler_Small_NG_existing\n",
      "\t - Adding Technology Photovoltaic\n",
      "\t - Adding Technology HeatPump_AirSourced\n",
      "\t - Adding Technology Storage_Battery\n",
      "\t\t\tgdp.bigm Transformation...\n",
      "\t\t\tgdp.bigm Transformation completed in 14 s\n",
      "\t - Adding Technology WindTurbine_Onshore_4000\n",
      "\t - Adding Technology Storage_H2\n",
      "\t\t\tgdp.bigm Transformation...\n",
      "\t\t\tgdp.bigm Transformation completed in 19 s\n",
      "\t - Adding Technology WindTurbine_Offshore_9500\n",
      "\t - Adding Technology GasTurbine_simple_existing\n",
      "\t - Adding Technology Boiler_Small_NG_existing\n",
      "\t - Adding Technology Photovoltaic\n",
      "\t - Adding Technology HeatPump_AirSourced\n",
      "\t - Adding Technology Storage_Battery\n",
      "\t\t\tgdp.bigm Transformation...\n",
      "\t\t\tgdp.bigm Transformation completed in 14 s\n",
      "\t - Adding Technology WindTurbine_Onshore_4000\n",
      "\t - Adding Technology Storage_H2\n",
      "\t\t\tgdp.bigm Transformation...\n",
      "\t\t\tgdp.bigm Transformation completed in 15 s\n",
      "\t - Adding Technology WindTurbine_Offshore_9500\n",
      "\t - Adding Technology GasTurbine_simple_existing\n",
      "\t - Adding Technology Boiler_Small_NG_existing\n",
      "\t - Adding Technology Photovoltaic\n",
      "\t - Adding Technology HeatPump_AirSourced\n",
      "\t - Adding Technology Storage_Battery\n",
      "\t\t\tgdp.bigm Transformation...\n",
      "\t\t\tgdp.bigm Transformation completed in 22 s\n",
      "\t - Adding Technology WindTurbine_Onshore_4000\n",
      "\t - Adding Technology Storage_H2\n",
      "\t\t\tgdp.bigm Transformation...\n",
      "\t\t\tgdp.bigm Transformation completed in 12 s\n",
      "\t - Adding Technology WindTurbine_Offshore_9500\n",
      "\t - Adding Technology GasTurbine_simple_existing\n",
      "\t - Adding Technology Boiler_Small_NG_existing\n",
      "Constructing Investment Period period3\n",
      "Constructing Investment Period period3 completed\n",
      "\t - Adding Technology Photovoltaic\n",
      "\t - Adding Technology HeatPump_AirSourced\n",
      "\t - Adding Technology Storage_Battery\n",
      "\t\t\tgdp.bigm Transformation...\n",
      "\t\t\tgdp.bigm Transformation completed in 29 s\n",
      "\t - Adding Technology WindTurbine_Onshore_4000\n",
      "\t - Adding Technology Storage_H2\n",
      "\t\t\tgdp.bigm Transformation...\n",
      "\t\t\tgdp.bigm Transformation completed in 29 s\n",
      "\t - Adding Technology WindTurbine_Offshore_9500\n",
      "\t - Adding Technology GasTurbine_simple_existing\n",
      "\t - Adding Technology Boiler_Small_NG_existing\n",
      "\t - Adding Technology Photovoltaic\n",
      "\t - Adding Technology HeatPump_AirSourced\n",
      "\t - Adding Technology Storage_Battery\n",
      "\t\t\tgdp.bigm Transformation...\n",
      "\t\t\tgdp.bigm Transformation completed in 28 s\n",
      "\t - Adding Technology WindTurbine_Onshore_4000\n",
      "\t - Adding Technology Storage_H2\n",
      "\t\t\tgdp.bigm Transformation...\n",
      "\t\t\tgdp.bigm Transformation completed in 29 s\n",
      "\t - Adding Technology WindTurbine_Offshore_9500\n",
      "\t - Adding Technology GasTurbine_simple_existing\n",
      "\t - Adding Technology Boiler_Small_NG_existing\n",
      "\t - Adding Technology Photovoltaic\n",
      "\t - Adding Technology HeatPump_AirSourced\n",
      "\t - Adding Technology Storage_Battery\n",
      "\t\t\tgdp.bigm Transformation...\n",
      "\t\t\tgdp.bigm Transformation completed in 29 s\n",
      "\t - Adding Technology WindTurbine_Onshore_4000\n",
      "\t - Adding Technology Storage_H2\n",
      "\t\t\tgdp.bigm Transformation...\n",
      "\t\t\tgdp.bigm Transformation completed in 29 s\n",
      "\t - Adding Technology WindTurbine_Offshore_9500\n",
      "\t - Adding Technology GasTurbine_simple_existing\n",
      "\t - Adding Technology Boiler_Small_NG_existing\n",
      "\t - Adding Technology Photovoltaic\n",
      "\t - Adding Technology HeatPump_AirSourced\n",
      "\t - Adding Technology Storage_Battery\n",
      "\t\t\tgdp.bigm Transformation...\n",
      "\t\t\tgdp.bigm Transformation completed in 29 s\n",
      "\t - Adding Technology WindTurbine_Onshore_4000\n",
      "\t - Adding Technology Storage_H2\n",
      "\t\t\tgdp.bigm Transformation...\n",
      "\t\t\tgdp.bigm Transformation completed in 29 s\n",
      "\t - Adding Technology WindTurbine_Offshore_9500\n",
      "\t - Adding Technology GasTurbine_simple_existing\n",
      "\t - Adding Technology Boiler_Small_NG_existing\n",
      "\t - Adding Technology Photovoltaic\n",
      "\t - Adding Technology HeatPump_AirSourced\n",
      "\t - Adding Technology Storage_Battery\n",
      "\t\t\tgdp.bigm Transformation...\n",
      "\t\t\tgdp.bigm Transformation completed in 30 s\n",
      "\t - Adding Technology WindTurbine_Onshore_4000\n",
      "\t - Adding Technology Storage_H2\n",
      "\t\t\tgdp.bigm Transformation...\n",
      "\t\t\tgdp.bigm Transformation completed in 30 s\n",
      "\t - Adding Technology WindTurbine_Offshore_9500\n",
      "\t - Adding Technology GasTurbine_simple_existing\n",
      "\t - Adding Technology Boiler_Small_NG_existing\n"
     ]
    },
    {
     "ename": "MemoryError",
     "evalue": "",
     "output_type": "error",
     "traceback": [
      "\u001b[31m---------------------------------------------------------------------------\u001b[39m",
      "\u001b[31mMemoryError\u001b[39m                               Traceback (most recent call last)",
      "\u001b[36mCell\u001b[39m\u001b[36m \u001b[39m\u001b[32mIn[8]\u001b[39m\u001b[32m, line 3\u001b[39m\n\u001b[32m      1\u001b[39m m = adopt.ModelHub()\n\u001b[32m      2\u001b[39m m.read_data(input_data_path_baseline)\n\u001b[32m----> \u001b[39m\u001b[32m3\u001b[39m \u001b[43mm\u001b[49m\u001b[43m.\u001b[49m\u001b[43mquick_solve\u001b[49m\u001b[43m(\u001b[49m\u001b[43m)\u001b[49m\n",
      "\u001b[36mFile \u001b[39m\u001b[32mc:\\Users\\Jamme002\\OneDrive - Universiteit Utrecht\\Documents\\YOU\\adopt_net0\\modelhub.py:402\u001b[39m, in \u001b[36mModelHub.quick_solve\u001b[39m\u001b[34m(self)\u001b[39m\n\u001b[32m    393\u001b[39m \u001b[38;5;28;01mdef\u001b[39;00m\u001b[38;5;250m \u001b[39m\u001b[34mquick_solve\u001b[39m(\u001b[38;5;28mself\u001b[39m):\n\u001b[32m    394\u001b[39m \u001b[38;5;250m    \u001b[39m\u001b[33;03m\"\"\"\u001b[39;00m\n\u001b[32m    395\u001b[39m \u001b[33;03m    Quick-solves the model (constructs model and balances and solves model).\u001b[39;00m\n\u001b[32m    396\u001b[39m \n\u001b[32m   (...)\u001b[39m\u001b[32m    400\u001b[39m \u001b[33;03m    - :func:`~adopt_net0.modelhub.solve`\u001b[39;00m\n\u001b[32m    401\u001b[39m \u001b[33;03m    \"\"\"\u001b[39;00m\n\u001b[32m--> \u001b[39m\u001b[32m402\u001b[39m     \u001b[38;5;28;43mself\u001b[39;49m\u001b[43m.\u001b[49m\u001b[43mconstruct_model\u001b[49m\u001b[43m(\u001b[49m\u001b[43m)\u001b[49m\n\u001b[32m    403\u001b[39m     \u001b[38;5;28mself\u001b[39m.construct_balances()\n\u001b[32m    404\u001b[39m     \u001b[38;5;28mself\u001b[39m.solve()\n",
      "\u001b[36mFile \u001b[39m\u001b[32mc:\\Users\\Jamme002\\OneDrive - Universiteit Utrecht\\Documents\\YOU\\adopt_net0\\modelhub.py:342\u001b[39m, in \u001b[36mModelHub.construct_model\u001b[39m\u001b[34m(self)\u001b[39m\n\u001b[32m    338\u001b[39m     b_period.node_blocks = pyo.Block(model.set_nodes, rule=init_node_block)\n\u001b[32m    340\u001b[39m     \u001b[38;5;28;01mreturn\u001b[39;00m b_period\n\u001b[32m--> \u001b[39m\u001b[32m342\u001b[39m \u001b[43mmodel\u001b[49m\u001b[43m.\u001b[49m\u001b[43mperiods\u001b[49m = pyo.Block(model.set_periods, rule=init_period_block)\n\u001b[32m    344\u001b[39m log_msg = \u001b[33mf\u001b[39m\u001b[33m\"\u001b[39m\u001b[33mConstructing model completed in \u001b[39m\u001b[38;5;132;01m{\u001b[39;00m\u001b[38;5;28mstr\u001b[39m(\u001b[38;5;28mround\u001b[39m(time.time()\u001b[38;5;250m \u001b[39m-\u001b[38;5;250m \u001b[39mstart))\u001b[38;5;132;01m}\u001b[39;00m\u001b[33ms\u001b[39m\u001b[33m\"\u001b[39m\n\u001b[32m    345\u001b[39m log.info(log_msg)\n",
      "\u001b[36mFile \u001b[39m\u001b[32mc:\\Python\\Lib\\site-packages\\pyomo\\core\\base\\block.py:571\u001b[39m, in \u001b[36mBlockData.__setattr__\u001b[39m\u001b[34m(self, name, val)\u001b[39m\n\u001b[32m    566\u001b[39m \u001b[38;5;28;01mif\u001b[39;00m name \u001b[38;5;129;01mnot\u001b[39;00m \u001b[38;5;129;01min\u001b[39;00m \u001b[38;5;28mself\u001b[39m.\u001b[34m__dict__\u001b[39m:\n\u001b[32m    567\u001b[39m     \u001b[38;5;28;01mif\u001b[39;00m \u001b[38;5;28misinstance\u001b[39m(val, Component):\n\u001b[32m    568\u001b[39m         \u001b[38;5;66;03m#\u001b[39;00m\n\u001b[32m    569\u001b[39m         \u001b[38;5;66;03m# Pyomo components are added with the add_component method.\u001b[39;00m\n\u001b[32m    570\u001b[39m         \u001b[38;5;66;03m#\u001b[39;00m\n\u001b[32m--> \u001b[39m\u001b[32m571\u001b[39m         \u001b[38;5;28;43mself\u001b[39;49m\u001b[43m.\u001b[49m\u001b[43madd_component\u001b[49m\u001b[43m(\u001b[49m\u001b[43mname\u001b[49m\u001b[43m,\u001b[49m\u001b[43m \u001b[49m\u001b[43mval\u001b[49m\u001b[43m)\u001b[49m\n\u001b[32m    572\u001b[39m     \u001b[38;5;28;01melse\u001b[39;00m:\n\u001b[32m    573\u001b[39m         \u001b[38;5;66;03m#\u001b[39;00m\n\u001b[32m    574\u001b[39m         \u001b[38;5;66;03m# Other Python objects are added with the standard __setattr__\u001b[39;00m\n\u001b[32m    575\u001b[39m         \u001b[38;5;66;03m# method.\u001b[39;00m\n\u001b[32m    576\u001b[39m         \u001b[38;5;66;03m#\u001b[39;00m\n\u001b[32m    577\u001b[39m         \u001b[38;5;28msuper\u001b[39m(BlockData, \u001b[38;5;28mself\u001b[39m).\u001b[34m__setattr__\u001b[39m(name, val)\n",
      "\u001b[36mFile \u001b[39m\u001b[32mc:\\Python\\Lib\\site-packages\\pyomo\\core\\base\\block.py:1119\u001b[39m, in \u001b[36mBlockData.add_component\u001b[39m\u001b[34m(self, name, val)\u001b[39m\n\u001b[32m   1117\u001b[39m     _blockName = \u001b[33m\"\u001b[39m\u001b[33m'\u001b[39m\u001b[33m\"\u001b[39m + _blockName + \u001b[33m'\u001b[39m\u001b[33m.\u001b[39m\u001b[33m'\u001b[39m + name + \u001b[33m\"\u001b[39m\u001b[33m'\u001b[39m\u001b[33m\"\u001b[39m\n\u001b[32m   1118\u001b[39m _out = StringIO()\n\u001b[32m-> \u001b[39m\u001b[32m1119\u001b[39m \u001b[43mval\u001b[49m\u001b[43m.\u001b[49m\u001b[43mpprint\u001b[49m\u001b[43m(\u001b[49m\u001b[43mostream\u001b[49m\u001b[43m=\u001b[49m\u001b[43m_out\u001b[49m\u001b[43m)\u001b[49m\n\u001b[32m   1120\u001b[39m logger.debug(\n\u001b[32m   1121\u001b[39m     \u001b[33m\"\u001b[39m\u001b[33mConstructed component \u001b[39m\u001b[33m'\u001b[39m\u001b[38;5;132;01m%s\u001b[39;00m\u001b[33m'\u001b[39m\u001b[33m:\u001b[39m\u001b[38;5;130;01m\\n\u001b[39;00m\u001b[38;5;132;01m%s\u001b[39;00m\u001b[33m\"\u001b[39m % (_blockName, _out.getvalue())\n\u001b[32m   1122\u001b[39m )\n",
      "\u001b[36mFile \u001b[39m\u001b[32mc:\\Python\\Lib\\site-packages\\pyomo\\core\\base\\component.py:515\u001b[39m, in \u001b[36mComponent.pprint\u001b[39m\u001b[34m(self, ostream, verbose, prefix)\u001b[39m\n\u001b[32m    513\u001b[39m \u001b[38;5;28;01mdef\u001b[39;00m\u001b[38;5;250m \u001b[39m\u001b[34mpprint\u001b[39m(\u001b[38;5;28mself\u001b[39m, ostream=\u001b[38;5;28;01mNone\u001b[39;00m, verbose=\u001b[38;5;28;01mFalse\u001b[39;00m, prefix=\u001b[33m\"\u001b[39m\u001b[33m\"\u001b[39m):\n\u001b[32m    514\u001b[39m \u001b[38;5;250m    \u001b[39m\u001b[33;03m\"\"\"Print component information\"\"\"\u001b[39;00m\n\u001b[32m--> \u001b[39m\u001b[32m515\u001b[39m     \u001b[38;5;28;43mself\u001b[39;49m\u001b[43m.\u001b[49m\u001b[43m_pprint_base_impl\u001b[49m\u001b[43m(\u001b[49m\n\u001b[32m    516\u001b[39m \u001b[43m        \u001b[49m\u001b[43mostream\u001b[49m\u001b[43m,\u001b[49m\n\u001b[32m    517\u001b[39m \u001b[43m        \u001b[49m\u001b[43mverbose\u001b[49m\u001b[43m,\u001b[49m\n\u001b[32m    518\u001b[39m \u001b[43m        \u001b[49m\u001b[43mprefix\u001b[49m\u001b[43m,\u001b[49m\n\u001b[32m    519\u001b[39m \u001b[43m        \u001b[49m\u001b[38;5;28;43mself\u001b[39;49m\u001b[43m.\u001b[49m\u001b[43mlocal_name\u001b[49m\u001b[43m,\u001b[49m\n\u001b[32m    520\u001b[39m \u001b[43m        \u001b[49m\u001b[38;5;28;43mself\u001b[39;49m\u001b[43m.\u001b[49m\u001b[43mdoc\u001b[49m\u001b[43m,\u001b[49m\n\u001b[32m    521\u001b[39m \u001b[43m        \u001b[49m\u001b[38;5;28;43mself\u001b[39;49m\u001b[43m.\u001b[49m\u001b[43mis_constructed\u001b[49m\u001b[43m(\u001b[49m\u001b[43m)\u001b[49m\u001b[43m,\u001b[49m\n\u001b[32m    522\u001b[39m \u001b[43m        \u001b[49m\u001b[43m*\u001b[49m\u001b[38;5;28;43mself\u001b[39;49m\u001b[43m.\u001b[49m\u001b[43m_pprint\u001b[49m\u001b[43m(\u001b[49m\u001b[43m)\u001b[49m\n\u001b[32m    523\u001b[39m \u001b[43m    \u001b[49m\u001b[43m)\u001b[49m\n",
      "\u001b[36mFile \u001b[39m\u001b[32mc:\\Python\\Lib\\site-packages\\pyomo\\core\\base\\component.py:412\u001b[39m, in \u001b[36mComponentBase._pprint_base_impl\u001b[39m\u001b[34m(self, ostream, verbose, prefix, _name, _doc, _constructed, _attr, _data, _header, _fcn)\u001b[39m\n\u001b[32m    410\u001b[39m     _data_dict = \u001b[38;5;28mdict\u001b[39m(_data)\n\u001b[32m    411\u001b[39m     \u001b[38;5;28;01mfor\u001b[39;00m _key \u001b[38;5;129;01min\u001b[39;00m sorted_robust(_data_dict):\n\u001b[32m--> \u001b[39m\u001b[32m412\u001b[39m         \u001b[43m_fcn\u001b[49m\u001b[43m(\u001b[49m\u001b[43mostream\u001b[49m\u001b[43m,\u001b[49m\u001b[43m \u001b[49m\u001b[43m_key\u001b[49m\u001b[43m,\u001b[49m\u001b[43m \u001b[49m\u001b[43m_data_dict\u001b[49m\u001b[43m[\u001b[49m\u001b[43m_key\u001b[49m\u001b[43m]\u001b[49m\u001b[43m)\u001b[49m\n\u001b[32m    413\u001b[39m \u001b[38;5;28;01melif\u001b[39;00m _data \u001b[38;5;129;01mis\u001b[39;00m \u001b[38;5;129;01mnot\u001b[39;00m \u001b[38;5;28;01mNone\u001b[39;00m:\n\u001b[32m    414\u001b[39m     ostream.write(_data)\n",
      "\u001b[36mFile \u001b[39m\u001b[32mc:\\Python\\Lib\\site-packages\\pyomo\\core\\base\\block.py:2249\u001b[39m, in \u001b[36mBlock._pprint_callback\u001b[39m\u001b[34m(self, ostream, idx, data)\u001b[39m\n\u001b[32m   2247\u001b[39m ostream.write(\u001b[33m\"\u001b[39m\u001b[38;5;132;01m%s\u001b[39;00m\u001b[33m : Active=\u001b[39m\u001b[38;5;132;01m%s\u001b[39;00m\u001b[38;5;130;01m\\n\u001b[39;00m\u001b[33m\"\u001b[39m % (data.name, data.active))\n\u001b[32m   2248\u001b[39m ostream = StreamIndenter(ostream, \u001b[38;5;28mself\u001b[39m._PPRINT_INDENT)\n\u001b[32m-> \u001b[39m\u001b[32m2249\u001b[39m \u001b[43mdata\u001b[49m\u001b[43m.\u001b[49m\u001b[43m_pprint_blockdata_components\u001b[49m\u001b[43m(\u001b[49m\u001b[43mostream\u001b[49m\u001b[43m)\u001b[49m\n",
      "\u001b[36mFile \u001b[39m\u001b[32mc:\\Python\\Lib\\site-packages\\pyomo\\core\\base\\block.py:1866\u001b[39m, in \u001b[36mBlockData._pprint_blockdata_components\u001b[39m\u001b[34m(self, ostream)\u001b[39m\n\u001b[32m   1864\u001b[39m     ostream.write(\u001b[33m\"\u001b[39m\u001b[38;5;132;01m%d\u001b[39;00m\u001b[33m \u001b[39m\u001b[38;5;132;01m%s\u001b[39;00m\u001b[33m Declarations\u001b[39m\u001b[38;5;130;01m\\n\u001b[39;00m\u001b[33m\"\u001b[39m % (\u001b[38;5;28mlen\u001b[39m(keys), item.\u001b[34m__name__\u001b[39m))\n\u001b[32m   1865\u001b[39m     \u001b[38;5;28;01mfor\u001b[39;00m key \u001b[38;5;129;01min\u001b[39;00m keys:\n\u001b[32m-> \u001b[39m\u001b[32m1866\u001b[39m         \u001b[38;5;28;43mself\u001b[39;49m\u001b[43m.\u001b[49m\u001b[43mcomponent\u001b[49m\u001b[43m(\u001b[49m\u001b[43mkey\u001b[49m\u001b[43m)\u001b[49m\u001b[43m.\u001b[49m\u001b[43mpprint\u001b[49m\u001b[43m(\u001b[49m\u001b[43mostream\u001b[49m\u001b[43m=\u001b[49m\u001b[43mindented_ostream\u001b[49m\u001b[43m)\u001b[49m\n\u001b[32m   1867\u001b[39m     ostream.write(\u001b[33m\"\u001b[39m\u001b[38;5;130;01m\\n\u001b[39;00m\u001b[33m\"\u001b[39m)\n\u001b[32m   1868\u001b[39m \u001b[38;5;66;03m#\u001b[39;00m\n\u001b[32m   1869\u001b[39m \u001b[38;5;66;03m# Model Order\u001b[39;00m\n\u001b[32m   1870\u001b[39m \u001b[38;5;66;03m#\u001b[39;00m\n",
      "\u001b[36mFile \u001b[39m\u001b[32mc:\\Python\\Lib\\site-packages\\pyomo\\core\\base\\component.py:515\u001b[39m, in \u001b[36mComponent.pprint\u001b[39m\u001b[34m(self, ostream, verbose, prefix)\u001b[39m\n\u001b[32m    513\u001b[39m \u001b[38;5;28;01mdef\u001b[39;00m\u001b[38;5;250m \u001b[39m\u001b[34mpprint\u001b[39m(\u001b[38;5;28mself\u001b[39m, ostream=\u001b[38;5;28;01mNone\u001b[39;00m, verbose=\u001b[38;5;28;01mFalse\u001b[39;00m, prefix=\u001b[33m\"\u001b[39m\u001b[33m\"\u001b[39m):\n\u001b[32m    514\u001b[39m \u001b[38;5;250m    \u001b[39m\u001b[33;03m\"\"\"Print component information\"\"\"\u001b[39;00m\n\u001b[32m--> \u001b[39m\u001b[32m515\u001b[39m     \u001b[38;5;28;43mself\u001b[39;49m\u001b[43m.\u001b[49m\u001b[43m_pprint_base_impl\u001b[49m\u001b[43m(\u001b[49m\n\u001b[32m    516\u001b[39m \u001b[43m        \u001b[49m\u001b[43mostream\u001b[49m\u001b[43m,\u001b[49m\n\u001b[32m    517\u001b[39m \u001b[43m        \u001b[49m\u001b[43mverbose\u001b[49m\u001b[43m,\u001b[49m\n\u001b[32m    518\u001b[39m \u001b[43m        \u001b[49m\u001b[43mprefix\u001b[49m\u001b[43m,\u001b[49m\n\u001b[32m    519\u001b[39m \u001b[43m        \u001b[49m\u001b[38;5;28;43mself\u001b[39;49m\u001b[43m.\u001b[49m\u001b[43mlocal_name\u001b[49m\u001b[43m,\u001b[49m\n\u001b[32m    520\u001b[39m \u001b[43m        \u001b[49m\u001b[38;5;28;43mself\u001b[39;49m\u001b[43m.\u001b[49m\u001b[43mdoc\u001b[49m\u001b[43m,\u001b[49m\n\u001b[32m    521\u001b[39m \u001b[43m        \u001b[49m\u001b[38;5;28;43mself\u001b[39;49m\u001b[43m.\u001b[49m\u001b[43mis_constructed\u001b[49m\u001b[43m(\u001b[49m\u001b[43m)\u001b[49m\u001b[43m,\u001b[49m\n\u001b[32m    522\u001b[39m \u001b[43m        \u001b[49m\u001b[43m*\u001b[49m\u001b[38;5;28;43mself\u001b[39;49m\u001b[43m.\u001b[49m\u001b[43m_pprint\u001b[49m\u001b[43m(\u001b[49m\u001b[43m)\u001b[49m\n\u001b[32m    523\u001b[39m \u001b[43m    \u001b[49m\u001b[43m)\u001b[49m\n",
      "\u001b[36mFile \u001b[39m\u001b[32mc:\\Python\\Lib\\site-packages\\pyomo\\core\\base\\component.py:412\u001b[39m, in \u001b[36mComponentBase._pprint_base_impl\u001b[39m\u001b[34m(self, ostream, verbose, prefix, _name, _doc, _constructed, _attr, _data, _header, _fcn)\u001b[39m\n\u001b[32m    410\u001b[39m     _data_dict = \u001b[38;5;28mdict\u001b[39m(_data)\n\u001b[32m    411\u001b[39m     \u001b[38;5;28;01mfor\u001b[39;00m _key \u001b[38;5;129;01min\u001b[39;00m sorted_robust(_data_dict):\n\u001b[32m--> \u001b[39m\u001b[32m412\u001b[39m         \u001b[43m_fcn\u001b[49m\u001b[43m(\u001b[49m\u001b[43mostream\u001b[49m\u001b[43m,\u001b[49m\u001b[43m \u001b[49m\u001b[43m_key\u001b[49m\u001b[43m,\u001b[49m\u001b[43m \u001b[49m\u001b[43m_data_dict\u001b[49m\u001b[43m[\u001b[49m\u001b[43m_key\u001b[49m\u001b[43m]\u001b[49m\u001b[43m)\u001b[49m\n\u001b[32m    413\u001b[39m \u001b[38;5;28;01melif\u001b[39;00m _data \u001b[38;5;129;01mis\u001b[39;00m \u001b[38;5;129;01mnot\u001b[39;00m \u001b[38;5;28;01mNone\u001b[39;00m:\n\u001b[32m    414\u001b[39m     ostream.write(_data)\n",
      "\u001b[36mFile \u001b[39m\u001b[32mc:\\Python\\Lib\\site-packages\\pyomo\\core\\base\\block.py:2249\u001b[39m, in \u001b[36mBlock._pprint_callback\u001b[39m\u001b[34m(self, ostream, idx, data)\u001b[39m\n\u001b[32m   2247\u001b[39m ostream.write(\u001b[33m\"\u001b[39m\u001b[38;5;132;01m%s\u001b[39;00m\u001b[33m : Active=\u001b[39m\u001b[38;5;132;01m%s\u001b[39;00m\u001b[38;5;130;01m\\n\u001b[39;00m\u001b[33m\"\u001b[39m % (data.name, data.active))\n\u001b[32m   2248\u001b[39m ostream = StreamIndenter(ostream, \u001b[38;5;28mself\u001b[39m._PPRINT_INDENT)\n\u001b[32m-> \u001b[39m\u001b[32m2249\u001b[39m \u001b[43mdata\u001b[49m\u001b[43m.\u001b[49m\u001b[43m_pprint_blockdata_components\u001b[49m\u001b[43m(\u001b[49m\u001b[43mostream\u001b[49m\u001b[43m)\u001b[49m\n",
      "\u001b[36mFile \u001b[39m\u001b[32mc:\\Python\\Lib\\site-packages\\pyomo\\core\\base\\block.py:1866\u001b[39m, in \u001b[36mBlockData._pprint_blockdata_components\u001b[39m\u001b[34m(self, ostream)\u001b[39m\n\u001b[32m   1864\u001b[39m     ostream.write(\u001b[33m\"\u001b[39m\u001b[38;5;132;01m%d\u001b[39;00m\u001b[33m \u001b[39m\u001b[38;5;132;01m%s\u001b[39;00m\u001b[33m Declarations\u001b[39m\u001b[38;5;130;01m\\n\u001b[39;00m\u001b[33m\"\u001b[39m % (\u001b[38;5;28mlen\u001b[39m(keys), item.\u001b[34m__name__\u001b[39m))\n\u001b[32m   1865\u001b[39m     \u001b[38;5;28;01mfor\u001b[39;00m key \u001b[38;5;129;01min\u001b[39;00m keys:\n\u001b[32m-> \u001b[39m\u001b[32m1866\u001b[39m         \u001b[38;5;28;43mself\u001b[39;49m\u001b[43m.\u001b[49m\u001b[43mcomponent\u001b[49m\u001b[43m(\u001b[49m\u001b[43mkey\u001b[49m\u001b[43m)\u001b[49m\u001b[43m.\u001b[49m\u001b[43mpprint\u001b[49m\u001b[43m(\u001b[49m\u001b[43mostream\u001b[49m\u001b[43m=\u001b[49m\u001b[43mindented_ostream\u001b[49m\u001b[43m)\u001b[49m\n\u001b[32m   1867\u001b[39m     ostream.write(\u001b[33m\"\u001b[39m\u001b[38;5;130;01m\\n\u001b[39;00m\u001b[33m\"\u001b[39m)\n\u001b[32m   1868\u001b[39m \u001b[38;5;66;03m#\u001b[39;00m\n\u001b[32m   1869\u001b[39m \u001b[38;5;66;03m# Model Order\u001b[39;00m\n\u001b[32m   1870\u001b[39m \u001b[38;5;66;03m#\u001b[39;00m\n",
      "\u001b[36mFile \u001b[39m\u001b[32mc:\\Python\\Lib\\site-packages\\pyomo\\core\\base\\component.py:515\u001b[39m, in \u001b[36mComponent.pprint\u001b[39m\u001b[34m(self, ostream, verbose, prefix)\u001b[39m\n\u001b[32m    513\u001b[39m \u001b[38;5;28;01mdef\u001b[39;00m\u001b[38;5;250m \u001b[39m\u001b[34mpprint\u001b[39m(\u001b[38;5;28mself\u001b[39m, ostream=\u001b[38;5;28;01mNone\u001b[39;00m, verbose=\u001b[38;5;28;01mFalse\u001b[39;00m, prefix=\u001b[33m\"\u001b[39m\u001b[33m\"\u001b[39m):\n\u001b[32m    514\u001b[39m \u001b[38;5;250m    \u001b[39m\u001b[33;03m\"\"\"Print component information\"\"\"\u001b[39;00m\n\u001b[32m--> \u001b[39m\u001b[32m515\u001b[39m     \u001b[38;5;28;43mself\u001b[39;49m\u001b[43m.\u001b[49m\u001b[43m_pprint_base_impl\u001b[49m\u001b[43m(\u001b[49m\n\u001b[32m    516\u001b[39m \u001b[43m        \u001b[49m\u001b[43mostream\u001b[49m\u001b[43m,\u001b[49m\n\u001b[32m    517\u001b[39m \u001b[43m        \u001b[49m\u001b[43mverbose\u001b[49m\u001b[43m,\u001b[49m\n\u001b[32m    518\u001b[39m \u001b[43m        \u001b[49m\u001b[43mprefix\u001b[49m\u001b[43m,\u001b[49m\n\u001b[32m    519\u001b[39m \u001b[43m        \u001b[49m\u001b[38;5;28;43mself\u001b[39;49m\u001b[43m.\u001b[49m\u001b[43mlocal_name\u001b[49m\u001b[43m,\u001b[49m\n\u001b[32m    520\u001b[39m \u001b[43m        \u001b[49m\u001b[38;5;28;43mself\u001b[39;49m\u001b[43m.\u001b[49m\u001b[43mdoc\u001b[49m\u001b[43m,\u001b[49m\n\u001b[32m    521\u001b[39m \u001b[43m        \u001b[49m\u001b[38;5;28;43mself\u001b[39;49m\u001b[43m.\u001b[49m\u001b[43mis_constructed\u001b[49m\u001b[43m(\u001b[49m\u001b[43m)\u001b[49m\u001b[43m,\u001b[49m\n\u001b[32m    522\u001b[39m \u001b[43m        \u001b[49m\u001b[43m*\u001b[49m\u001b[38;5;28;43mself\u001b[39;49m\u001b[43m.\u001b[49m\u001b[43m_pprint\u001b[49m\u001b[43m(\u001b[49m\u001b[43m)\u001b[49m\n\u001b[32m    523\u001b[39m \u001b[43m    \u001b[49m\u001b[43m)\u001b[49m\n",
      "\u001b[36mFile \u001b[39m\u001b[32mc:\\Python\\Lib\\site-packages\\pyomo\\core\\base\\component.py:412\u001b[39m, in \u001b[36mComponentBase._pprint_base_impl\u001b[39m\u001b[34m(self, ostream, verbose, prefix, _name, _doc, _constructed, _attr, _data, _header, _fcn)\u001b[39m\n\u001b[32m    410\u001b[39m     _data_dict = \u001b[38;5;28mdict\u001b[39m(_data)\n\u001b[32m    411\u001b[39m     \u001b[38;5;28;01mfor\u001b[39;00m _key \u001b[38;5;129;01min\u001b[39;00m sorted_robust(_data_dict):\n\u001b[32m--> \u001b[39m\u001b[32m412\u001b[39m         \u001b[43m_fcn\u001b[49m\u001b[43m(\u001b[49m\u001b[43mostream\u001b[49m\u001b[43m,\u001b[49m\u001b[43m \u001b[49m\u001b[43m_key\u001b[49m\u001b[43m,\u001b[49m\u001b[43m \u001b[49m\u001b[43m_data_dict\u001b[49m\u001b[43m[\u001b[49m\u001b[43m_key\u001b[49m\u001b[43m]\u001b[49m\u001b[43m)\u001b[49m\n\u001b[32m    413\u001b[39m \u001b[38;5;28;01melif\u001b[39;00m _data \u001b[38;5;129;01mis\u001b[39;00m \u001b[38;5;129;01mnot\u001b[39;00m \u001b[38;5;28;01mNone\u001b[39;00m:\n\u001b[32m    414\u001b[39m     ostream.write(_data)\n",
      "\u001b[36mFile \u001b[39m\u001b[32mc:\\Python\\Lib\\site-packages\\pyomo\\core\\base\\block.py:2249\u001b[39m, in \u001b[36mBlock._pprint_callback\u001b[39m\u001b[34m(self, ostream, idx, data)\u001b[39m\n\u001b[32m   2247\u001b[39m ostream.write(\u001b[33m\"\u001b[39m\u001b[38;5;132;01m%s\u001b[39;00m\u001b[33m : Active=\u001b[39m\u001b[38;5;132;01m%s\u001b[39;00m\u001b[38;5;130;01m\\n\u001b[39;00m\u001b[33m\"\u001b[39m % (data.name, data.active))\n\u001b[32m   2248\u001b[39m ostream = StreamIndenter(ostream, \u001b[38;5;28mself\u001b[39m._PPRINT_INDENT)\n\u001b[32m-> \u001b[39m\u001b[32m2249\u001b[39m \u001b[43mdata\u001b[49m\u001b[43m.\u001b[49m\u001b[43m_pprint_blockdata_components\u001b[49m\u001b[43m(\u001b[49m\u001b[43mostream\u001b[49m\u001b[43m)\u001b[49m\n",
      "\u001b[36mFile \u001b[39m\u001b[32mc:\\Python\\Lib\\site-packages\\pyomo\\core\\base\\block.py:1866\u001b[39m, in \u001b[36mBlockData._pprint_blockdata_components\u001b[39m\u001b[34m(self, ostream)\u001b[39m\n\u001b[32m   1864\u001b[39m     ostream.write(\u001b[33m\"\u001b[39m\u001b[38;5;132;01m%d\u001b[39;00m\u001b[33m \u001b[39m\u001b[38;5;132;01m%s\u001b[39;00m\u001b[33m Declarations\u001b[39m\u001b[38;5;130;01m\\n\u001b[39;00m\u001b[33m\"\u001b[39m % (\u001b[38;5;28mlen\u001b[39m(keys), item.\u001b[34m__name__\u001b[39m))\n\u001b[32m   1865\u001b[39m     \u001b[38;5;28;01mfor\u001b[39;00m key \u001b[38;5;129;01min\u001b[39;00m keys:\n\u001b[32m-> \u001b[39m\u001b[32m1866\u001b[39m         \u001b[38;5;28;43mself\u001b[39;49m\u001b[43m.\u001b[49m\u001b[43mcomponent\u001b[49m\u001b[43m(\u001b[49m\u001b[43mkey\u001b[49m\u001b[43m)\u001b[49m\u001b[43m.\u001b[49m\u001b[43mpprint\u001b[49m\u001b[43m(\u001b[49m\u001b[43mostream\u001b[49m\u001b[43m=\u001b[49m\u001b[43mindented_ostream\u001b[49m\u001b[43m)\u001b[49m\n\u001b[32m   1867\u001b[39m     ostream.write(\u001b[33m\"\u001b[39m\u001b[38;5;130;01m\\n\u001b[39;00m\u001b[33m\"\u001b[39m)\n\u001b[32m   1868\u001b[39m \u001b[38;5;66;03m#\u001b[39;00m\n\u001b[32m   1869\u001b[39m \u001b[38;5;66;03m# Model Order\u001b[39;00m\n\u001b[32m   1870\u001b[39m \u001b[38;5;66;03m#\u001b[39;00m\n",
      "\u001b[36mFile \u001b[39m\u001b[32mc:\\Python\\Lib\\site-packages\\pyomo\\core\\base\\component.py:515\u001b[39m, in \u001b[36mComponent.pprint\u001b[39m\u001b[34m(self, ostream, verbose, prefix)\u001b[39m\n\u001b[32m    513\u001b[39m \u001b[38;5;28;01mdef\u001b[39;00m\u001b[38;5;250m \u001b[39m\u001b[34mpprint\u001b[39m(\u001b[38;5;28mself\u001b[39m, ostream=\u001b[38;5;28;01mNone\u001b[39;00m, verbose=\u001b[38;5;28;01mFalse\u001b[39;00m, prefix=\u001b[33m\"\u001b[39m\u001b[33m\"\u001b[39m):\n\u001b[32m    514\u001b[39m \u001b[38;5;250m    \u001b[39m\u001b[33;03m\"\"\"Print component information\"\"\"\u001b[39;00m\n\u001b[32m--> \u001b[39m\u001b[32m515\u001b[39m     \u001b[38;5;28;43mself\u001b[39;49m\u001b[43m.\u001b[49m\u001b[43m_pprint_base_impl\u001b[49m\u001b[43m(\u001b[49m\n\u001b[32m    516\u001b[39m \u001b[43m        \u001b[49m\u001b[43mostream\u001b[49m\u001b[43m,\u001b[49m\n\u001b[32m    517\u001b[39m \u001b[43m        \u001b[49m\u001b[43mverbose\u001b[49m\u001b[43m,\u001b[49m\n\u001b[32m    518\u001b[39m \u001b[43m        \u001b[49m\u001b[43mprefix\u001b[49m\u001b[43m,\u001b[49m\n\u001b[32m    519\u001b[39m \u001b[43m        \u001b[49m\u001b[38;5;28;43mself\u001b[39;49m\u001b[43m.\u001b[49m\u001b[43mlocal_name\u001b[49m\u001b[43m,\u001b[49m\n\u001b[32m    520\u001b[39m \u001b[43m        \u001b[49m\u001b[38;5;28;43mself\u001b[39;49m\u001b[43m.\u001b[49m\u001b[43mdoc\u001b[49m\u001b[43m,\u001b[49m\n\u001b[32m    521\u001b[39m \u001b[43m        \u001b[49m\u001b[38;5;28;43mself\u001b[39;49m\u001b[43m.\u001b[49m\u001b[43mis_constructed\u001b[49m\u001b[43m(\u001b[49m\u001b[43m)\u001b[49m\u001b[43m,\u001b[49m\n\u001b[32m    522\u001b[39m \u001b[43m        \u001b[49m\u001b[43m*\u001b[49m\u001b[38;5;28;43mself\u001b[39;49m\u001b[43m.\u001b[49m\u001b[43m_pprint\u001b[49m\u001b[43m(\u001b[49m\u001b[43m)\u001b[49m\n\u001b[32m    523\u001b[39m \u001b[43m    \u001b[49m\u001b[43m)\u001b[49m\n",
      "\u001b[36mFile \u001b[39m\u001b[32mc:\\Python\\Lib\\site-packages\\pyomo\\core\\base\\component.py:405\u001b[39m, in \u001b[36mComponentBase._pprint_base_impl\u001b[39m\u001b[34m(self, ostream, verbose, prefix, _name, _doc, _constructed, _attr, _data, _header, _fcn)\u001b[39m\n\u001b[32m    403\u001b[39m     _data_dict = \u001b[38;5;28mdict\u001b[39m(_data)\n\u001b[32m    404\u001b[39m     _data = _data_dict.items()\n\u001b[32m--> \u001b[39m\u001b[32m405\u001b[39m \u001b[43mtabular_writer\u001b[49m\u001b[43m(\u001b[49m\u001b[43mostream\u001b[49m\u001b[43m,\u001b[49m\u001b[43m \u001b[49m\u001b[33;43m'\u001b[39;49m\u001b[33;43m'\u001b[39;49m\u001b[43m,\u001b[49m\u001b[43m \u001b[49m\u001b[43m_data\u001b[49m\u001b[43m,\u001b[49m\u001b[43m \u001b[49m\u001b[43m_header\u001b[49m\u001b[43m,\u001b[49m\u001b[43m \u001b[49m\u001b[43m_fcn\u001b[49m\u001b[43m)\u001b[49m\n\u001b[32m    406\u001b[39m \u001b[38;5;28;01mif\u001b[39;00m _fcn2 \u001b[38;5;129;01mis\u001b[39;00m \u001b[38;5;129;01mnot\u001b[39;00m \u001b[38;5;28;01mNone\u001b[39;00m:\n\u001b[32m    407\u001b[39m     \u001b[38;5;28;01mfor\u001b[39;00m _key \u001b[38;5;129;01min\u001b[39;00m sorted_robust(_data_dict):\n",
      "\u001b[36mFile \u001b[39m\u001b[32mc:\\Python\\Lib\\site-packages\\pyomo\\common\\formatting.py:194\u001b[39m, in \u001b[36mtabular_writer\u001b[39m\u001b[34m(ostream, prefix, data, header, row_generator)\u001b[39m\n\u001b[32m    192\u001b[39m     _rowSet = [[_key] + [\u001b[38;5;28;01mNone\u001b[39;00m] * (\u001b[38;5;28mlen\u001b[39m(_width) - \u001b[32m1\u001b[39m)]\n\u001b[32m    193\u001b[39m \u001b[38;5;28;01mfor\u001b[39;00m _data \u001b[38;5;129;01min\u001b[39;00m _rowSet:\n\u001b[32m--> \u001b[39m\u001b[32m194\u001b[39m     \u001b[43mostream\u001b[49m\u001b[43m.\u001b[49m\u001b[43mwrite\u001b[49m\u001b[43m(\u001b[49m\n\u001b[32m    195\u001b[39m \u001b[43m        \u001b[49m\u001b[43mprefix\u001b[49m\u001b[43m \u001b[49m\u001b[43m+\u001b[49m\u001b[43m \u001b[49m\u001b[33;43m\"\u001b[39;49m\u001b[33;43m : \u001b[39;49m\u001b[33;43m\"\u001b[39;49m\u001b[43m.\u001b[49m\u001b[43mjoin\u001b[49m\u001b[43m(\u001b[49m\u001b[43m_width\u001b[49m\u001b[43m[\u001b[49m\u001b[43mi\u001b[49m\u001b[43m]\u001b[49m\u001b[43m \u001b[49m\u001b[43m%\u001b[49m\u001b[43m \u001b[49m\u001b[43mx\u001b[49m\u001b[43m \u001b[49m\u001b[38;5;28;43;01mfor\u001b[39;49;00m\u001b[43m \u001b[49m\u001b[43mi\u001b[49m\u001b[43m,\u001b[49m\u001b[43m \u001b[49m\u001b[43mx\u001b[49m\u001b[43m \u001b[49m\u001b[38;5;129;43;01min\u001b[39;49;00m\u001b[43m \u001b[49m\u001b[38;5;28;43menumerate\u001b[39;49m\u001b[43m(\u001b[49m\u001b[43m_data\u001b[49m\u001b[43m)\u001b[49m\u001b[43m)\u001b[49m\u001b[43m \u001b[49m\u001b[43m+\u001b[49m\u001b[43m \u001b[49m\u001b[33;43m\"\u001b[39;49m\u001b[38;5;130;43;01m\\n\u001b[39;49;00m\u001b[33;43m\"\u001b[39;49m\n\u001b[32m    196\u001b[39m \u001b[43m    \u001b[49m\u001b[43m)\u001b[49m\n",
      "\u001b[36mFile \u001b[39m\u001b[32mc:\\Python\\Lib\\site-packages\\pyomo\\common\\formatting.py:222\u001b[39m, in \u001b[36mStreamIndenter.write\u001b[39m\u001b[34m(self, data)\u001b[39m\n\u001b[32m    220\u001b[39m \u001b[38;5;28;01mif\u001b[39;00m \u001b[38;5;28mself\u001b[39m.newline:\n\u001b[32m    221\u001b[39m     \u001b[38;5;28;01mif\u001b[39;00m lines[\u001b[32m0\u001b[39m]:\n\u001b[32m--> \u001b[39m\u001b[32m222\u001b[39m         \u001b[38;5;28;43mself\u001b[39;49m\u001b[43m.\u001b[49m\u001b[43mos\u001b[49m\u001b[43m.\u001b[49m\u001b[43mwrite\u001b[49m\u001b[43m(\u001b[49m\u001b[38;5;28;43mself\u001b[39;49m\u001b[43m.\u001b[49m\u001b[43mindent\u001b[49m\u001b[43m \u001b[49m\u001b[43m+\u001b[49m\u001b[43m \u001b[49m\u001b[43mlines\u001b[49m\u001b[43m[\u001b[49m\u001b[32;43m0\u001b[39;49m\u001b[43m]\u001b[49m\u001b[43m)\u001b[49m\n\u001b[32m    223\u001b[39m     \u001b[38;5;28;01melse\u001b[39;00m:\n\u001b[32m    224\u001b[39m         \u001b[38;5;28mself\u001b[39m.os.write(\u001b[38;5;28mself\u001b[39m.stripped_indent)\n",
      "\u001b[36mFile \u001b[39m\u001b[32mc:\\Python\\Lib\\site-packages\\pyomo\\common\\formatting.py:222\u001b[39m, in \u001b[36mStreamIndenter.write\u001b[39m\u001b[34m(self, data)\u001b[39m\n\u001b[32m    220\u001b[39m \u001b[38;5;28;01mif\u001b[39;00m \u001b[38;5;28mself\u001b[39m.newline:\n\u001b[32m    221\u001b[39m     \u001b[38;5;28;01mif\u001b[39;00m lines[\u001b[32m0\u001b[39m]:\n\u001b[32m--> \u001b[39m\u001b[32m222\u001b[39m         \u001b[38;5;28;43mself\u001b[39;49m\u001b[43m.\u001b[49m\u001b[43mos\u001b[49m\u001b[43m.\u001b[49m\u001b[43mwrite\u001b[49m\u001b[43m(\u001b[49m\u001b[38;5;28;43mself\u001b[39;49m\u001b[43m.\u001b[49m\u001b[43mindent\u001b[49m\u001b[43m \u001b[49m\u001b[43m+\u001b[49m\u001b[43m \u001b[49m\u001b[43mlines\u001b[49m\u001b[43m[\u001b[49m\u001b[32;43m0\u001b[39;49m\u001b[43m]\u001b[49m\u001b[43m)\u001b[49m\n\u001b[32m    223\u001b[39m     \u001b[38;5;28;01melse\u001b[39;00m:\n\u001b[32m    224\u001b[39m         \u001b[38;5;28mself\u001b[39m.os.write(\u001b[38;5;28mself\u001b[39m.stripped_indent)\n",
      "    \u001b[31m[... skipping similar frames: StreamIndenter.write at line 222 (7 times)]\u001b[39m\n",
      "\u001b[36mFile \u001b[39m\u001b[32mc:\\Python\\Lib\\site-packages\\pyomo\\common\\formatting.py:222\u001b[39m, in \u001b[36mStreamIndenter.write\u001b[39m\u001b[34m(self, data)\u001b[39m\n\u001b[32m    220\u001b[39m \u001b[38;5;28;01mif\u001b[39;00m \u001b[38;5;28mself\u001b[39m.newline:\n\u001b[32m    221\u001b[39m     \u001b[38;5;28;01mif\u001b[39;00m lines[\u001b[32m0\u001b[39m]:\n\u001b[32m--> \u001b[39m\u001b[32m222\u001b[39m         \u001b[38;5;28;43mself\u001b[39;49m\u001b[43m.\u001b[49m\u001b[43mos\u001b[49m\u001b[43m.\u001b[49m\u001b[43mwrite\u001b[49m\u001b[43m(\u001b[49m\u001b[38;5;28;43mself\u001b[39;49m\u001b[43m.\u001b[49m\u001b[43mindent\u001b[49m\u001b[43m \u001b[49m\u001b[43m+\u001b[49m\u001b[43m \u001b[49m\u001b[43mlines\u001b[49m\u001b[43m[\u001b[49m\u001b[32;43m0\u001b[39;49m\u001b[43m]\u001b[49m\u001b[43m)\u001b[49m\n\u001b[32m    223\u001b[39m     \u001b[38;5;28;01melse\u001b[39;00m:\n\u001b[32m    224\u001b[39m         \u001b[38;5;28mself\u001b[39m.os.write(\u001b[38;5;28mself\u001b[39m.stripped_indent)\n",
      "\u001b[31mMemoryError\u001b[39m: "
     ]
    }
   ],
   "source": [
    "m = adopt.ModelHub()\n",
    "m.read_data(input_data_path_baseline)\n",
    "m.quick_solve()"
   ]
  },
  {
   "cell_type": "code",
   "execution_count": 8,
   "id": "9ea20b15",
   "metadata": {},
   "outputs": [
    {
     "name": "stderr",
     "output_type": "stream",
     "text": [
      "--- Reading in data ---\n",
      "Input data folder has been checked successfully - no errors occurred.\n",
      "Reading data from italy_baseline\n",
      "Topology read successfully\n",
      "Model Configuration read successfully\n",
      "Time series read successfully\n",
      "Node Locations read successfully\n",
      "Energy balance options read successfully\n",
      "Deriving performance data for Heat Pump...\n"
     ]
    },
    {
     "name": "stdout",
     "output_type": "stream",
     "text": [
      "Complete:  99.0 %Complete:  100 %\n"
     ]
    },
    {
     "name": "stderr",
     "output_type": "stream",
     "text": [
      "Deriving performance data for Heat Pump...\n"
     ]
    },
    {
     "name": "stdout",
     "output_type": "stream",
     "text": [
      "Complete:  99.0 %Complete:  100 %\n"
     ]
    },
    {
     "name": "stderr",
     "output_type": "stream",
     "text": [
      "Deriving performance data for Heat Pump...\n"
     ]
    },
    {
     "name": "stdout",
     "output_type": "stream",
     "text": [
      "Complete:  99.0 %Complete:  100 %\n"
     ]
    },
    {
     "name": "stderr",
     "output_type": "stream",
     "text": [
      "Deriving performance data for Heat Pump...\n"
     ]
    },
    {
     "name": "stdout",
     "output_type": "stream",
     "text": [
      "Complete:  99.0 %Complete:  100 %\n"
     ]
    },
    {
     "name": "stderr",
     "output_type": "stream",
     "text": [
      "Deriving performance data for Heat Pump...\n"
     ]
    },
    {
     "name": "stdout",
     "output_type": "stream",
     "text": [
      "Complete:  99.0 %Complete:  100 %\n"
     ]
    },
    {
     "name": "stderr",
     "output_type": "stream",
     "text": [
      "Deriving performance data for Heat Pump...\n"
     ]
    },
    {
     "name": "stdout",
     "output_type": "stream",
     "text": [
      "Complete:  99.0 %99999999999 %%Complete:  100 %\n"
     ]
    },
    {
     "name": "stderr",
     "output_type": "stream",
     "text": [
      "Deriving performance data for Heat Pump...\n"
     ]
    },
    {
     "name": "stdout",
     "output_type": "stream",
     "text": [
      "Complete:  99.0 %Complete:  100 %\n"
     ]
    },
    {
     "name": "stderr",
     "output_type": "stream",
     "text": [
      "Deriving performance data for Heat Pump...\n"
     ]
    },
    {
     "name": "stdout",
     "output_type": "stream",
     "text": [
      "Complete:  99.0 %Complete:  100 %\n"
     ]
    },
    {
     "name": "stderr",
     "output_type": "stream",
     "text": [
      "Deriving performance data for Heat Pump...\n"
     ]
    },
    {
     "name": "stdout",
     "output_type": "stream",
     "text": [
      "Complete:  99.0 %Complete:  100 %\n"
     ]
    },
    {
     "name": "stderr",
     "output_type": "stream",
     "text": [
      "Deriving performance data for Heat Pump...\n"
     ]
    },
    {
     "name": "stdout",
     "output_type": "stream",
     "text": [
      "Complete:  99.0 %Complete:  100 %\n"
     ]
    },
    {
     "name": "stderr",
     "output_type": "stream",
     "text": [
      "Deriving performance data for Heat Pump...\n"
     ]
    },
    {
     "name": "stdout",
     "output_type": "stream",
     "text": [
      "Complete:  99.0 %Complete:  100 %\n"
     ]
    },
    {
     "name": "stderr",
     "output_type": "stream",
     "text": [
      "Deriving performance data for Heat Pump...\n"
     ]
    },
    {
     "name": "stdout",
     "output_type": "stream",
     "text": [
      "Complete:  99.0 %Complete:  100 %\n"
     ]
    },
    {
     "name": "stderr",
     "output_type": "stream",
     "text": [
      "Deriving performance data for Heat Pump...\n"
     ]
    },
    {
     "name": "stdout",
     "output_type": "stream",
     "text": [
      "Complete:  99.0 %Complete:  100 %\n"
     ]
    },
    {
     "name": "stderr",
     "output_type": "stream",
     "text": [
      "Deriving performance data for Heat Pump...\n"
     ]
    },
    {
     "name": "stdout",
     "output_type": "stream",
     "text": [
      "Complete:  99.0 %Complete:  100 %\n"
     ]
    },
    {
     "name": "stderr",
     "output_type": "stream",
     "text": [
      "Deriving performance data for Heat Pump...\n"
     ]
    },
    {
     "name": "stdout",
     "output_type": "stream",
     "text": [
      "Complete:  99.0 %Complete:  100 %\n"
     ]
    },
    {
     "name": "stderr",
     "output_type": "stream",
     "text": [
      "Technology data read successfully\n",
      "Network data read successfully\n",
      "--- Reading in data complete ---\n",
      "--- Constructing Model ---\n",
      "Set parameter Username\n",
      "Set parameter LicenseID to value 2671115\n",
      "Academic license - for non-commercial use only - expires 2026-05-26\n",
      "Constructing Investment Period period1\n",
      "Constructing Investment Period period1 completed\n",
      "\t - Adding Technology Photovoltaic\n",
      "DEPRECATED: Using __getitem__ to return a set value from its (ordered)\n",
      "position is deprecated.  Please use at()  (deprecated in 6.1, will be\n",
      "removed in (or after) 7.0)\n",
      "(called from c:\\Users\\Jamme002\\OneDrive - Universiteit Utrecht\\Documents\\YOU\\adopt_net0\\components\\technologies\\technology.py:931)\n",
      "\t - Adding Technology HeatPump_AirSourced\n",
      "\t - Adding Technology Storage_Battery\n",
      "\t\t\tgdp.bigm Transformation...\n",
      "\t\t\tgdp.bigm Transformation completed in 16 s\n",
      "\t - Adding Technology WindTurbine_Onshore_4000\n",
      "\t - Adding Technology Storage_H2\n",
      "\t\t\tgdp.bigm Transformation...\n",
      "\t\t\tgdp.bigm Transformation completed in 12 s\n",
      "\t - Adding Technology WindTurbine_Offshore_9500\n",
      "\t - Adding Technology GasTurbine_simple_existing\n",
      "\t - Adding Technology Boiler_Small_NG_existing\n",
      "\t - Adding Technology Photovoltaic\n",
      "\t - Adding Technology HeatPump_AirSourced\n",
      "\t - Adding Technology Storage_Battery\n",
      "\t\t\tgdp.bigm Transformation...\n",
      "\t\t\tgdp.bigm Transformation completed in 15 s\n",
      "\t - Adding Technology WindTurbine_Onshore_4000\n",
      "\t - Adding Technology Storage_H2\n",
      "\t\t\tgdp.bigm Transformation...\n",
      "\t\t\tgdp.bigm Transformation completed in 16 s\n",
      "\t - Adding Technology WindTurbine_Offshore_9500\n",
      "\t - Adding Technology GasTurbine_simple_existing\n",
      "\t - Adding Technology Boiler_Small_NG_existing\n",
      "\t - Adding Technology Photovoltaic\n",
      "\t - Adding Technology HeatPump_AirSourced\n",
      "\t - Adding Technology Storage_Battery\n",
      "\t\t\tgdp.bigm Transformation...\n",
      "\t\t\tgdp.bigm Transformation completed in 19 s\n",
      "\t - Adding Technology WindTurbine_Onshore_4000\n",
      "\t - Adding Technology Storage_H2\n",
      "\t\t\tgdp.bigm Transformation...\n",
      "\t\t\tgdp.bigm Transformation completed in 30 s\n",
      "\t - Adding Technology WindTurbine_Offshore_9500\n",
      "\t - Adding Technology GasTurbine_simple_existing\n",
      "\t - Adding Technology Boiler_Small_NG_existing\n",
      "\t - Adding Technology Photovoltaic\n",
      "\t - Adding Technology HeatPump_AirSourced\n",
      "\t - Adding Technology Storage_Battery\n",
      "\t\t\tgdp.bigm Transformation...\n",
      "\t\t\tgdp.bigm Transformation completed in 13 s\n",
      "\t - Adding Technology WindTurbine_Onshore_4000\n",
      "\t - Adding Technology Storage_H2\n",
      "\t\t\tgdp.bigm Transformation...\n",
      "\t\t\tgdp.bigm Transformation completed in 14 s\n",
      "\t - Adding Technology WindTurbine_Offshore_9500\n",
      "\t - Adding Technology GasTurbine_simple_existing\n",
      "\t - Adding Technology Boiler_Small_NG_existing\n",
      "\t - Adding Technology Photovoltaic\n",
      "\t - Adding Technology HeatPump_AirSourced\n",
      "\t - Adding Technology Storage_Battery\n",
      "\t\t\tgdp.bigm Transformation...\n",
      "\t\t\tgdp.bigm Transformation completed in 25 s\n",
      "\t - Adding Technology WindTurbine_Onshore_4000\n",
      "\t - Adding Technology Storage_H2\n",
      "\t\t\tgdp.bigm Transformation...\n",
      "\t\t\tgdp.bigm Transformation completed in 13 s\n",
      "\t - Adding Technology WindTurbine_Offshore_9500\n",
      "\t - Adding Technology GasTurbine_simple_existing\n",
      "\t - Adding Technology Boiler_Small_NG_existing\n",
      "Constructing Investment Period period2\n",
      "Constructing Investment Period period2 completed\n",
      "\t - Adding Technology Photovoltaic\n",
      "\t - Adding Technology HeatPump_AirSourced\n",
      "\t - Adding Technology Storage_Battery\n",
      "\t\t\tgdp.bigm Transformation...\n",
      "\t\t\tgdp.bigm Transformation completed in 13 s\n",
      "\t - Adding Technology WindTurbine_Onshore_4000\n",
      "\t - Adding Technology Storage_H2\n",
      "\t\t\tgdp.bigm Transformation...\n",
      "\t\t\tgdp.bigm Transformation completed in 16 s\n",
      "\t - Adding Technology WindTurbine_Offshore_9500\n",
      "\t - Adding Technology GasTurbine_simple_existing\n",
      "\t - Adding Technology Boiler_Small_NG_existing\n",
      "\t - Adding Technology Photovoltaic\n",
      "\t - Adding Technology HeatPump_AirSourced\n",
      "\t - Adding Technology Storage_Battery\n",
      "\t\t\tgdp.bigm Transformation...\n",
      "\t\t\tgdp.bigm Transformation completed in 13 s\n",
      "\t - Adding Technology WindTurbine_Onshore_4000\n",
      "\t - Adding Technology Storage_H2\n",
      "\t\t\tgdp.bigm Transformation...\n",
      "\t\t\tgdp.bigm Transformation completed in 18 s\n",
      "\t - Adding Technology WindTurbine_Offshore_9500\n",
      "\t - Adding Technology GasTurbine_simple_existing\n",
      "\t - Adding Technology Boiler_Small_NG_existing\n",
      "\t - Adding Technology Photovoltaic\n",
      "\t - Adding Technology HeatPump_AirSourced\n",
      "\t - Adding Technology Storage_Battery\n",
      "\t\t\tgdp.bigm Transformation...\n",
      "\t\t\tgdp.bigm Transformation completed in 19 s\n",
      "\t - Adding Technology WindTurbine_Onshore_4000\n",
      "\t - Adding Technology Storage_H2\n",
      "\t\t\tgdp.bigm Transformation...\n",
      "\t\t\tgdp.bigm Transformation completed in 19 s\n",
      "\t - Adding Technology WindTurbine_Offshore_9500\n",
      "\t - Adding Technology GasTurbine_simple_existing\n",
      "\t - Adding Technology Boiler_Small_NG_existing\n",
      "\t - Adding Technology Photovoltaic\n",
      "\t - Adding Technology HeatPump_AirSourced\n",
      "\t - Adding Technology Storage_Battery\n",
      "\t\t\tgdp.bigm Transformation...\n",
      "\t\t\tgdp.bigm Transformation completed in 26 s\n",
      "\t - Adding Technology WindTurbine_Onshore_4000\n",
      "\t - Adding Technology Storage_H2\n",
      "\t\t\tgdp.bigm Transformation...\n",
      "\t\t\tgdp.bigm Transformation completed in 14 s\n",
      "\t - Adding Technology WindTurbine_Offshore_9500\n",
      "\t - Adding Technology GasTurbine_simple_existing\n",
      "\t - Adding Technology Boiler_Small_NG_existing\n",
      "\t - Adding Technology Photovoltaic\n",
      "\t - Adding Technology HeatPump_AirSourced\n",
      "\t - Adding Technology Storage_Battery\n",
      "\t\t\tgdp.bigm Transformation...\n",
      "\t\t\tgdp.bigm Transformation completed in 10 s\n",
      "\t - Adding Technology WindTurbine_Onshore_4000\n",
      "\t - Adding Technology Storage_H2\n",
      "\t\t\tgdp.bigm Transformation...\n",
      "\t\t\tgdp.bigm Transformation completed in 11 s\n",
      "\t - Adding Technology WindTurbine_Offshore_9500\n",
      "\t - Adding Technology GasTurbine_simple_existing\n",
      "\t - Adding Technology Boiler_Small_NG_existing\n",
      "Constructing Investment Period period3\n",
      "Constructing Investment Period period3 completed\n",
      "\t - Adding Technology Photovoltaic\n",
      "\t - Adding Technology HeatPump_AirSourced\n",
      "\t - Adding Technology Storage_Battery\n",
      "\t\t\tgdp.bigm Transformation...\n",
      "\t\t\tgdp.bigm Transformation completed in 13 s\n",
      "\t - Adding Technology WindTurbine_Onshore_4000\n",
      "\t - Adding Technology Storage_H2\n",
      "\t\t\tgdp.bigm Transformation...\n",
      "\t\t\tgdp.bigm Transformation completed in 20 s\n",
      "\t - Adding Technology WindTurbine_Offshore_9500\n",
      "\t - Adding Technology GasTurbine_simple_existing\n",
      "\t - Adding Technology Boiler_Small_NG_existing\n",
      "\t - Adding Technology Photovoltaic\n",
      "\t - Adding Technology HeatPump_AirSourced\n",
      "\t - Adding Technology Storage_Battery\n",
      "\t\t\tgdp.bigm Transformation...\n",
      "\t\t\tgdp.bigm Transformation completed in 13 s\n",
      "\t - Adding Technology WindTurbine_Onshore_4000\n",
      "\t - Adding Technology Storage_H2\n",
      "\t\t\tgdp.bigm Transformation...\n",
      "\t\t\tgdp.bigm Transformation completed in 13 s\n",
      "\t - Adding Technology WindTurbine_Offshore_9500\n",
      "\t - Adding Technology GasTurbine_simple_existing\n",
      "\t - Adding Technology Boiler_Small_NG_existing\n",
      "\t - Adding Technology Photovoltaic\n",
      "\t - Adding Technology HeatPump_AirSourced\n",
      "\t - Adding Technology Storage_Battery\n",
      "\t\t\tgdp.bigm Transformation...\n",
      "\t\t\tgdp.bigm Transformation completed in 12 s\n",
      "\t - Adding Technology WindTurbine_Onshore_4000\n",
      "\t - Adding Technology Storage_H2\n",
      "\t\t\tgdp.bigm Transformation...\n",
      "\t\t\tgdp.bigm Transformation completed in 11 s\n",
      "\t - Adding Technology WindTurbine_Offshore_9500\n",
      "\t - Adding Technology GasTurbine_simple_existing\n",
      "\t - Adding Technology Boiler_Small_NG_existing\n",
      "\t - Adding Technology Photovoltaic\n",
      "\t - Adding Technology HeatPump_AirSourced\n",
      "\t - Adding Technology Storage_Battery\n",
      "\t\t\tgdp.bigm Transformation...\n",
      "\t\t\tgdp.bigm Transformation completed in 10 s\n",
      "\t - Adding Technology WindTurbine_Onshore_4000\n",
      "\t - Adding Technology Storage_H2\n",
      "\t\t\tgdp.bigm Transformation...\n",
      "\t\t\tgdp.bigm Transformation completed in 10 s\n",
      "\t - Adding Technology WindTurbine_Offshore_9500\n",
      "\t - Adding Technology GasTurbine_simple_existing\n",
      "\t - Adding Technology Boiler_Small_NG_existing\n",
      "\t - Adding Technology Photovoltaic\n",
      "\t - Adding Technology HeatPump_AirSourced\n",
      "\t - Adding Technology Storage_Battery\n",
      "\t\t\tgdp.bigm Transformation...\n",
      "\t\t\tgdp.bigm Transformation completed in 12 s\n",
      "\t - Adding Technology WindTurbine_Onshore_4000\n",
      "\t - Adding Technology Storage_H2\n",
      "\t\t\tgdp.bigm Transformation...\n",
      "\t\t\tgdp.bigm Transformation completed in 10 s\n",
      "\t - Adding Technology WindTurbine_Offshore_9500\n",
      "\t - Adding Technology GasTurbine_simple_existing\n",
      "\t - Adding Technology Boiler_Small_NG_existing\n"
     ]
    },
    {
     "ename": "MemoryError",
     "evalue": "",
     "output_type": "error",
     "traceback": [
      "\u001b[31m---------------------------------------------------------------------------\u001b[39m",
      "\u001b[31mMemoryError\u001b[39m                               Traceback (most recent call last)",
      "\u001b[36mCell\u001b[39m\u001b[36m \u001b[39m\u001b[32mIn[8]\u001b[39m\u001b[32m, line 3\u001b[39m\n\u001b[32m      1\u001b[39m m = adopt.ModelHub()\n\u001b[32m      2\u001b[39m m.read_data(input_data_path_baseline)\n\u001b[32m----> \u001b[39m\u001b[32m3\u001b[39m result_baseline = \u001b[43mm\u001b[49m\u001b[43m.\u001b[49m\u001b[43mquick_solve\u001b[49m\u001b[43m(\u001b[49m\u001b[43m)\u001b[49m\n\u001b[32m      4\u001b[39m \u001b[38;5;28mprint\u001b[39m(\u001b[33m\"\u001b[39m\u001b[33m✓ Baseline scenario completed\u001b[39m\u001b[33m\"\u001b[39m)\n",
      "\u001b[36mFile \u001b[39m\u001b[32mc:\\Users\\Jamme002\\OneDrive - Universiteit Utrecht\\Documents\\YOU\\adopt_net0\\modelhub.py:402\u001b[39m, in \u001b[36mModelHub.quick_solve\u001b[39m\u001b[34m(self)\u001b[39m\n\u001b[32m    393\u001b[39m \u001b[38;5;28;01mdef\u001b[39;00m\u001b[38;5;250m \u001b[39m\u001b[34mquick_solve\u001b[39m(\u001b[38;5;28mself\u001b[39m):\n\u001b[32m    394\u001b[39m \u001b[38;5;250m    \u001b[39m\u001b[33;03m\"\"\"\u001b[39;00m\n\u001b[32m    395\u001b[39m \u001b[33;03m    Quick-solves the model (constructs model and balances and solves model).\u001b[39;00m\n\u001b[32m    396\u001b[39m \n\u001b[32m   (...)\u001b[39m\u001b[32m    400\u001b[39m \u001b[33;03m    - :func:`~adopt_net0.modelhub.solve`\u001b[39;00m\n\u001b[32m    401\u001b[39m \u001b[33;03m    \"\"\"\u001b[39;00m\n\u001b[32m--> \u001b[39m\u001b[32m402\u001b[39m     \u001b[38;5;28;43mself\u001b[39;49m\u001b[43m.\u001b[49m\u001b[43mconstruct_model\u001b[49m\u001b[43m(\u001b[49m\u001b[43m)\u001b[49m\n\u001b[32m    403\u001b[39m     \u001b[38;5;28mself\u001b[39m.construct_balances()\n\u001b[32m    404\u001b[39m     \u001b[38;5;28mself\u001b[39m.solve()\n",
      "\u001b[36mFile \u001b[39m\u001b[32mc:\\Users\\Jamme002\\OneDrive - Universiteit Utrecht\\Documents\\YOU\\adopt_net0\\modelhub.py:342\u001b[39m, in \u001b[36mModelHub.construct_model\u001b[39m\u001b[34m(self)\u001b[39m\n\u001b[32m    338\u001b[39m     b_period.node_blocks = pyo.Block(model.set_nodes, rule=init_node_block)\n\u001b[32m    340\u001b[39m     \u001b[38;5;28;01mreturn\u001b[39;00m b_period\n\u001b[32m--> \u001b[39m\u001b[32m342\u001b[39m \u001b[43mmodel\u001b[49m\u001b[43m.\u001b[49m\u001b[43mperiods\u001b[49m = pyo.Block(model.set_periods, rule=init_period_block)\n\u001b[32m    344\u001b[39m log_msg = \u001b[33mf\u001b[39m\u001b[33m\"\u001b[39m\u001b[33mConstructing model completed in \u001b[39m\u001b[38;5;132;01m{\u001b[39;00m\u001b[38;5;28mstr\u001b[39m(\u001b[38;5;28mround\u001b[39m(time.time()\u001b[38;5;250m \u001b[39m-\u001b[38;5;250m \u001b[39mstart))\u001b[38;5;132;01m}\u001b[39;00m\u001b[33ms\u001b[39m\u001b[33m\"\u001b[39m\n\u001b[32m    345\u001b[39m log.info(log_msg)\n",
      "\u001b[36mFile \u001b[39m\u001b[32mc:\\Python\\Lib\\site-packages\\pyomo\\core\\base\\block.py:571\u001b[39m, in \u001b[36mBlockData.__setattr__\u001b[39m\u001b[34m(self, name, val)\u001b[39m\n\u001b[32m    566\u001b[39m \u001b[38;5;28;01mif\u001b[39;00m name \u001b[38;5;129;01mnot\u001b[39;00m \u001b[38;5;129;01min\u001b[39;00m \u001b[38;5;28mself\u001b[39m.\u001b[34m__dict__\u001b[39m:\n\u001b[32m    567\u001b[39m     \u001b[38;5;28;01mif\u001b[39;00m \u001b[38;5;28misinstance\u001b[39m(val, Component):\n\u001b[32m    568\u001b[39m         \u001b[38;5;66;03m#\u001b[39;00m\n\u001b[32m    569\u001b[39m         \u001b[38;5;66;03m# Pyomo components are added with the add_component method.\u001b[39;00m\n\u001b[32m    570\u001b[39m         \u001b[38;5;66;03m#\u001b[39;00m\n\u001b[32m--> \u001b[39m\u001b[32m571\u001b[39m         \u001b[38;5;28;43mself\u001b[39;49m\u001b[43m.\u001b[49m\u001b[43madd_component\u001b[49m\u001b[43m(\u001b[49m\u001b[43mname\u001b[49m\u001b[43m,\u001b[49m\u001b[43m \u001b[49m\u001b[43mval\u001b[49m\u001b[43m)\u001b[49m\n\u001b[32m    572\u001b[39m     \u001b[38;5;28;01melse\u001b[39;00m:\n\u001b[32m    573\u001b[39m         \u001b[38;5;66;03m#\u001b[39;00m\n\u001b[32m    574\u001b[39m         \u001b[38;5;66;03m# Other Python objects are added with the standard __setattr__\u001b[39;00m\n\u001b[32m    575\u001b[39m         \u001b[38;5;66;03m# method.\u001b[39;00m\n\u001b[32m    576\u001b[39m         \u001b[38;5;66;03m#\u001b[39;00m\n\u001b[32m    577\u001b[39m         \u001b[38;5;28msuper\u001b[39m(BlockData, \u001b[38;5;28mself\u001b[39m).\u001b[34m__setattr__\u001b[39m(name, val)\n",
      "\u001b[36mFile \u001b[39m\u001b[32mc:\\Python\\Lib\\site-packages\\pyomo\\core\\base\\block.py:1119\u001b[39m, in \u001b[36mBlockData.add_component\u001b[39m\u001b[34m(self, name, val)\u001b[39m\n\u001b[32m   1117\u001b[39m     _blockName = \u001b[33m\"\u001b[39m\u001b[33m'\u001b[39m\u001b[33m\"\u001b[39m + _blockName + \u001b[33m'\u001b[39m\u001b[33m.\u001b[39m\u001b[33m'\u001b[39m + name + \u001b[33m\"\u001b[39m\u001b[33m'\u001b[39m\u001b[33m\"\u001b[39m\n\u001b[32m   1118\u001b[39m _out = StringIO()\n\u001b[32m-> \u001b[39m\u001b[32m1119\u001b[39m \u001b[43mval\u001b[49m\u001b[43m.\u001b[49m\u001b[43mpprint\u001b[49m\u001b[43m(\u001b[49m\u001b[43mostream\u001b[49m\u001b[43m=\u001b[49m\u001b[43m_out\u001b[49m\u001b[43m)\u001b[49m\n\u001b[32m   1120\u001b[39m logger.debug(\n\u001b[32m   1121\u001b[39m     \u001b[33m\"\u001b[39m\u001b[33mConstructed component \u001b[39m\u001b[33m'\u001b[39m\u001b[38;5;132;01m%s\u001b[39;00m\u001b[33m'\u001b[39m\u001b[33m:\u001b[39m\u001b[38;5;130;01m\\n\u001b[39;00m\u001b[38;5;132;01m%s\u001b[39;00m\u001b[33m\"\u001b[39m % (_blockName, _out.getvalue())\n\u001b[32m   1122\u001b[39m )\n",
      "\u001b[36mFile \u001b[39m\u001b[32mc:\\Python\\Lib\\site-packages\\pyomo\\core\\base\\component.py:515\u001b[39m, in \u001b[36mComponent.pprint\u001b[39m\u001b[34m(self, ostream, verbose, prefix)\u001b[39m\n\u001b[32m    513\u001b[39m \u001b[38;5;28;01mdef\u001b[39;00m\u001b[38;5;250m \u001b[39m\u001b[34mpprint\u001b[39m(\u001b[38;5;28mself\u001b[39m, ostream=\u001b[38;5;28;01mNone\u001b[39;00m, verbose=\u001b[38;5;28;01mFalse\u001b[39;00m, prefix=\u001b[33m\"\u001b[39m\u001b[33m\"\u001b[39m):\n\u001b[32m    514\u001b[39m \u001b[38;5;250m    \u001b[39m\u001b[33;03m\"\"\"Print component information\"\"\"\u001b[39;00m\n\u001b[32m--> \u001b[39m\u001b[32m515\u001b[39m     \u001b[38;5;28;43mself\u001b[39;49m\u001b[43m.\u001b[49m\u001b[43m_pprint_base_impl\u001b[49m\u001b[43m(\u001b[49m\n\u001b[32m    516\u001b[39m \u001b[43m        \u001b[49m\u001b[43mostream\u001b[49m\u001b[43m,\u001b[49m\n\u001b[32m    517\u001b[39m \u001b[43m        \u001b[49m\u001b[43mverbose\u001b[49m\u001b[43m,\u001b[49m\n\u001b[32m    518\u001b[39m \u001b[43m        \u001b[49m\u001b[43mprefix\u001b[49m\u001b[43m,\u001b[49m\n\u001b[32m    519\u001b[39m \u001b[43m        \u001b[49m\u001b[38;5;28;43mself\u001b[39;49m\u001b[43m.\u001b[49m\u001b[43mlocal_name\u001b[49m\u001b[43m,\u001b[49m\n\u001b[32m    520\u001b[39m \u001b[43m        \u001b[49m\u001b[38;5;28;43mself\u001b[39;49m\u001b[43m.\u001b[49m\u001b[43mdoc\u001b[49m\u001b[43m,\u001b[49m\n\u001b[32m    521\u001b[39m \u001b[43m        \u001b[49m\u001b[38;5;28;43mself\u001b[39;49m\u001b[43m.\u001b[49m\u001b[43mis_constructed\u001b[49m\u001b[43m(\u001b[49m\u001b[43m)\u001b[49m\u001b[43m,\u001b[49m\n\u001b[32m    522\u001b[39m \u001b[43m        \u001b[49m\u001b[43m*\u001b[49m\u001b[38;5;28;43mself\u001b[39;49m\u001b[43m.\u001b[49m\u001b[43m_pprint\u001b[49m\u001b[43m(\u001b[49m\u001b[43m)\u001b[49m\n\u001b[32m    523\u001b[39m \u001b[43m    \u001b[49m\u001b[43m)\u001b[49m\n",
      "\u001b[36mFile \u001b[39m\u001b[32mc:\\Python\\Lib\\site-packages\\pyomo\\core\\base\\component.py:412\u001b[39m, in \u001b[36mComponentBase._pprint_base_impl\u001b[39m\u001b[34m(self, ostream, verbose, prefix, _name, _doc, _constructed, _attr, _data, _header, _fcn)\u001b[39m\n\u001b[32m    410\u001b[39m     _data_dict = \u001b[38;5;28mdict\u001b[39m(_data)\n\u001b[32m    411\u001b[39m     \u001b[38;5;28;01mfor\u001b[39;00m _key \u001b[38;5;129;01min\u001b[39;00m sorted_robust(_data_dict):\n\u001b[32m--> \u001b[39m\u001b[32m412\u001b[39m         \u001b[43m_fcn\u001b[49m\u001b[43m(\u001b[49m\u001b[43mostream\u001b[49m\u001b[43m,\u001b[49m\u001b[43m \u001b[49m\u001b[43m_key\u001b[49m\u001b[43m,\u001b[49m\u001b[43m \u001b[49m\u001b[43m_data_dict\u001b[49m\u001b[43m[\u001b[49m\u001b[43m_key\u001b[49m\u001b[43m]\u001b[49m\u001b[43m)\u001b[49m\n\u001b[32m    413\u001b[39m \u001b[38;5;28;01melif\u001b[39;00m _data \u001b[38;5;129;01mis\u001b[39;00m \u001b[38;5;129;01mnot\u001b[39;00m \u001b[38;5;28;01mNone\u001b[39;00m:\n\u001b[32m    414\u001b[39m     ostream.write(_data)\n",
      "\u001b[36mFile \u001b[39m\u001b[32mc:\\Python\\Lib\\site-packages\\pyomo\\core\\base\\block.py:2249\u001b[39m, in \u001b[36mBlock._pprint_callback\u001b[39m\u001b[34m(self, ostream, idx, data)\u001b[39m\n\u001b[32m   2247\u001b[39m ostream.write(\u001b[33m\"\u001b[39m\u001b[38;5;132;01m%s\u001b[39;00m\u001b[33m : Active=\u001b[39m\u001b[38;5;132;01m%s\u001b[39;00m\u001b[38;5;130;01m\\n\u001b[39;00m\u001b[33m\"\u001b[39m % (data.name, data.active))\n\u001b[32m   2248\u001b[39m ostream = StreamIndenter(ostream, \u001b[38;5;28mself\u001b[39m._PPRINT_INDENT)\n\u001b[32m-> \u001b[39m\u001b[32m2249\u001b[39m \u001b[43mdata\u001b[49m\u001b[43m.\u001b[49m\u001b[43m_pprint_blockdata_components\u001b[49m\u001b[43m(\u001b[49m\u001b[43mostream\u001b[49m\u001b[43m)\u001b[49m\n",
      "\u001b[36mFile \u001b[39m\u001b[32mc:\\Python\\Lib\\site-packages\\pyomo\\core\\base\\block.py:1866\u001b[39m, in \u001b[36mBlockData._pprint_blockdata_components\u001b[39m\u001b[34m(self, ostream)\u001b[39m\n\u001b[32m   1864\u001b[39m     ostream.write(\u001b[33m\"\u001b[39m\u001b[38;5;132;01m%d\u001b[39;00m\u001b[33m \u001b[39m\u001b[38;5;132;01m%s\u001b[39;00m\u001b[33m Declarations\u001b[39m\u001b[38;5;130;01m\\n\u001b[39;00m\u001b[33m\"\u001b[39m % (\u001b[38;5;28mlen\u001b[39m(keys), item.\u001b[34m__name__\u001b[39m))\n\u001b[32m   1865\u001b[39m     \u001b[38;5;28;01mfor\u001b[39;00m key \u001b[38;5;129;01min\u001b[39;00m keys:\n\u001b[32m-> \u001b[39m\u001b[32m1866\u001b[39m         \u001b[38;5;28;43mself\u001b[39;49m\u001b[43m.\u001b[49m\u001b[43mcomponent\u001b[49m\u001b[43m(\u001b[49m\u001b[43mkey\u001b[49m\u001b[43m)\u001b[49m\u001b[43m.\u001b[49m\u001b[43mpprint\u001b[49m\u001b[43m(\u001b[49m\u001b[43mostream\u001b[49m\u001b[43m=\u001b[49m\u001b[43mindented_ostream\u001b[49m\u001b[43m)\u001b[49m\n\u001b[32m   1867\u001b[39m     ostream.write(\u001b[33m\"\u001b[39m\u001b[38;5;130;01m\\n\u001b[39;00m\u001b[33m\"\u001b[39m)\n\u001b[32m   1868\u001b[39m \u001b[38;5;66;03m#\u001b[39;00m\n\u001b[32m   1869\u001b[39m \u001b[38;5;66;03m# Model Order\u001b[39;00m\n\u001b[32m   1870\u001b[39m \u001b[38;5;66;03m#\u001b[39;00m\n",
      "\u001b[36mFile \u001b[39m\u001b[32mc:\\Python\\Lib\\site-packages\\pyomo\\core\\base\\component.py:515\u001b[39m, in \u001b[36mComponent.pprint\u001b[39m\u001b[34m(self, ostream, verbose, prefix)\u001b[39m\n\u001b[32m    513\u001b[39m \u001b[38;5;28;01mdef\u001b[39;00m\u001b[38;5;250m \u001b[39m\u001b[34mpprint\u001b[39m(\u001b[38;5;28mself\u001b[39m, ostream=\u001b[38;5;28;01mNone\u001b[39;00m, verbose=\u001b[38;5;28;01mFalse\u001b[39;00m, prefix=\u001b[33m\"\u001b[39m\u001b[33m\"\u001b[39m):\n\u001b[32m    514\u001b[39m \u001b[38;5;250m    \u001b[39m\u001b[33;03m\"\"\"Print component information\"\"\"\u001b[39;00m\n\u001b[32m--> \u001b[39m\u001b[32m515\u001b[39m     \u001b[38;5;28;43mself\u001b[39;49m\u001b[43m.\u001b[49m\u001b[43m_pprint_base_impl\u001b[49m\u001b[43m(\u001b[49m\n\u001b[32m    516\u001b[39m \u001b[43m        \u001b[49m\u001b[43mostream\u001b[49m\u001b[43m,\u001b[49m\n\u001b[32m    517\u001b[39m \u001b[43m        \u001b[49m\u001b[43mverbose\u001b[49m\u001b[43m,\u001b[49m\n\u001b[32m    518\u001b[39m \u001b[43m        \u001b[49m\u001b[43mprefix\u001b[49m\u001b[43m,\u001b[49m\n\u001b[32m    519\u001b[39m \u001b[43m        \u001b[49m\u001b[38;5;28;43mself\u001b[39;49m\u001b[43m.\u001b[49m\u001b[43mlocal_name\u001b[49m\u001b[43m,\u001b[49m\n\u001b[32m    520\u001b[39m \u001b[43m        \u001b[49m\u001b[38;5;28;43mself\u001b[39;49m\u001b[43m.\u001b[49m\u001b[43mdoc\u001b[49m\u001b[43m,\u001b[49m\n\u001b[32m    521\u001b[39m \u001b[43m        \u001b[49m\u001b[38;5;28;43mself\u001b[39;49m\u001b[43m.\u001b[49m\u001b[43mis_constructed\u001b[49m\u001b[43m(\u001b[49m\u001b[43m)\u001b[49m\u001b[43m,\u001b[49m\n\u001b[32m    522\u001b[39m \u001b[43m        \u001b[49m\u001b[43m*\u001b[49m\u001b[38;5;28;43mself\u001b[39;49m\u001b[43m.\u001b[49m\u001b[43m_pprint\u001b[49m\u001b[43m(\u001b[49m\u001b[43m)\u001b[49m\n\u001b[32m    523\u001b[39m \u001b[43m    \u001b[49m\u001b[43m)\u001b[49m\n",
      "\u001b[36mFile \u001b[39m\u001b[32mc:\\Python\\Lib\\site-packages\\pyomo\\core\\base\\component.py:412\u001b[39m, in \u001b[36mComponentBase._pprint_base_impl\u001b[39m\u001b[34m(self, ostream, verbose, prefix, _name, _doc, _constructed, _attr, _data, _header, _fcn)\u001b[39m\n\u001b[32m    410\u001b[39m     _data_dict = \u001b[38;5;28mdict\u001b[39m(_data)\n\u001b[32m    411\u001b[39m     \u001b[38;5;28;01mfor\u001b[39;00m _key \u001b[38;5;129;01min\u001b[39;00m sorted_robust(_data_dict):\n\u001b[32m--> \u001b[39m\u001b[32m412\u001b[39m         \u001b[43m_fcn\u001b[49m\u001b[43m(\u001b[49m\u001b[43mostream\u001b[49m\u001b[43m,\u001b[49m\u001b[43m \u001b[49m\u001b[43m_key\u001b[49m\u001b[43m,\u001b[49m\u001b[43m \u001b[49m\u001b[43m_data_dict\u001b[49m\u001b[43m[\u001b[49m\u001b[43m_key\u001b[49m\u001b[43m]\u001b[49m\u001b[43m)\u001b[49m\n\u001b[32m    413\u001b[39m \u001b[38;5;28;01melif\u001b[39;00m _data \u001b[38;5;129;01mis\u001b[39;00m \u001b[38;5;129;01mnot\u001b[39;00m \u001b[38;5;28;01mNone\u001b[39;00m:\n\u001b[32m    414\u001b[39m     ostream.write(_data)\n",
      "\u001b[36mFile \u001b[39m\u001b[32mc:\\Python\\Lib\\site-packages\\pyomo\\core\\base\\block.py:2249\u001b[39m, in \u001b[36mBlock._pprint_callback\u001b[39m\u001b[34m(self, ostream, idx, data)\u001b[39m\n\u001b[32m   2247\u001b[39m ostream.write(\u001b[33m\"\u001b[39m\u001b[38;5;132;01m%s\u001b[39;00m\u001b[33m : Active=\u001b[39m\u001b[38;5;132;01m%s\u001b[39;00m\u001b[38;5;130;01m\\n\u001b[39;00m\u001b[33m\"\u001b[39m % (data.name, data.active))\n\u001b[32m   2248\u001b[39m ostream = StreamIndenter(ostream, \u001b[38;5;28mself\u001b[39m._PPRINT_INDENT)\n\u001b[32m-> \u001b[39m\u001b[32m2249\u001b[39m \u001b[43mdata\u001b[49m\u001b[43m.\u001b[49m\u001b[43m_pprint_blockdata_components\u001b[49m\u001b[43m(\u001b[49m\u001b[43mostream\u001b[49m\u001b[43m)\u001b[49m\n",
      "\u001b[36mFile \u001b[39m\u001b[32mc:\\Python\\Lib\\site-packages\\pyomo\\core\\base\\block.py:1866\u001b[39m, in \u001b[36mBlockData._pprint_blockdata_components\u001b[39m\u001b[34m(self, ostream)\u001b[39m\n\u001b[32m   1864\u001b[39m     ostream.write(\u001b[33m\"\u001b[39m\u001b[38;5;132;01m%d\u001b[39;00m\u001b[33m \u001b[39m\u001b[38;5;132;01m%s\u001b[39;00m\u001b[33m Declarations\u001b[39m\u001b[38;5;130;01m\\n\u001b[39;00m\u001b[33m\"\u001b[39m % (\u001b[38;5;28mlen\u001b[39m(keys), item.\u001b[34m__name__\u001b[39m))\n\u001b[32m   1865\u001b[39m     \u001b[38;5;28;01mfor\u001b[39;00m key \u001b[38;5;129;01min\u001b[39;00m keys:\n\u001b[32m-> \u001b[39m\u001b[32m1866\u001b[39m         \u001b[38;5;28;43mself\u001b[39;49m\u001b[43m.\u001b[49m\u001b[43mcomponent\u001b[49m\u001b[43m(\u001b[49m\u001b[43mkey\u001b[49m\u001b[43m)\u001b[49m\u001b[43m.\u001b[49m\u001b[43mpprint\u001b[49m\u001b[43m(\u001b[49m\u001b[43mostream\u001b[49m\u001b[43m=\u001b[49m\u001b[43mindented_ostream\u001b[49m\u001b[43m)\u001b[49m\n\u001b[32m   1867\u001b[39m     ostream.write(\u001b[33m\"\u001b[39m\u001b[38;5;130;01m\\n\u001b[39;00m\u001b[33m\"\u001b[39m)\n\u001b[32m   1868\u001b[39m \u001b[38;5;66;03m#\u001b[39;00m\n\u001b[32m   1869\u001b[39m \u001b[38;5;66;03m# Model Order\u001b[39;00m\n\u001b[32m   1870\u001b[39m \u001b[38;5;66;03m#\u001b[39;00m\n",
      "\u001b[36mFile \u001b[39m\u001b[32mc:\\Python\\Lib\\site-packages\\pyomo\\core\\base\\component.py:515\u001b[39m, in \u001b[36mComponent.pprint\u001b[39m\u001b[34m(self, ostream, verbose, prefix)\u001b[39m\n\u001b[32m    513\u001b[39m \u001b[38;5;28;01mdef\u001b[39;00m\u001b[38;5;250m \u001b[39m\u001b[34mpprint\u001b[39m(\u001b[38;5;28mself\u001b[39m, ostream=\u001b[38;5;28;01mNone\u001b[39;00m, verbose=\u001b[38;5;28;01mFalse\u001b[39;00m, prefix=\u001b[33m\"\u001b[39m\u001b[33m\"\u001b[39m):\n\u001b[32m    514\u001b[39m \u001b[38;5;250m    \u001b[39m\u001b[33;03m\"\"\"Print component information\"\"\"\u001b[39;00m\n\u001b[32m--> \u001b[39m\u001b[32m515\u001b[39m     \u001b[38;5;28;43mself\u001b[39;49m\u001b[43m.\u001b[49m\u001b[43m_pprint_base_impl\u001b[49m\u001b[43m(\u001b[49m\n\u001b[32m    516\u001b[39m \u001b[43m        \u001b[49m\u001b[43mostream\u001b[49m\u001b[43m,\u001b[49m\n\u001b[32m    517\u001b[39m \u001b[43m        \u001b[49m\u001b[43mverbose\u001b[49m\u001b[43m,\u001b[49m\n\u001b[32m    518\u001b[39m \u001b[43m        \u001b[49m\u001b[43mprefix\u001b[49m\u001b[43m,\u001b[49m\n\u001b[32m    519\u001b[39m \u001b[43m        \u001b[49m\u001b[38;5;28;43mself\u001b[39;49m\u001b[43m.\u001b[49m\u001b[43mlocal_name\u001b[49m\u001b[43m,\u001b[49m\n\u001b[32m    520\u001b[39m \u001b[43m        \u001b[49m\u001b[38;5;28;43mself\u001b[39;49m\u001b[43m.\u001b[49m\u001b[43mdoc\u001b[49m\u001b[43m,\u001b[49m\n\u001b[32m    521\u001b[39m \u001b[43m        \u001b[49m\u001b[38;5;28;43mself\u001b[39;49m\u001b[43m.\u001b[49m\u001b[43mis_constructed\u001b[49m\u001b[43m(\u001b[49m\u001b[43m)\u001b[49m\u001b[43m,\u001b[49m\n\u001b[32m    522\u001b[39m \u001b[43m        \u001b[49m\u001b[43m*\u001b[49m\u001b[38;5;28;43mself\u001b[39;49m\u001b[43m.\u001b[49m\u001b[43m_pprint\u001b[49m\u001b[43m(\u001b[49m\u001b[43m)\u001b[49m\n\u001b[32m    523\u001b[39m \u001b[43m    \u001b[49m\u001b[43m)\u001b[49m\n",
      "\u001b[36mFile \u001b[39m\u001b[32mc:\\Python\\Lib\\site-packages\\pyomo\\core\\base\\component.py:412\u001b[39m, in \u001b[36mComponentBase._pprint_base_impl\u001b[39m\u001b[34m(self, ostream, verbose, prefix, _name, _doc, _constructed, _attr, _data, _header, _fcn)\u001b[39m\n\u001b[32m    410\u001b[39m     _data_dict = \u001b[38;5;28mdict\u001b[39m(_data)\n\u001b[32m    411\u001b[39m     \u001b[38;5;28;01mfor\u001b[39;00m _key \u001b[38;5;129;01min\u001b[39;00m sorted_robust(_data_dict):\n\u001b[32m--> \u001b[39m\u001b[32m412\u001b[39m         \u001b[43m_fcn\u001b[49m\u001b[43m(\u001b[49m\u001b[43mostream\u001b[49m\u001b[43m,\u001b[49m\u001b[43m \u001b[49m\u001b[43m_key\u001b[49m\u001b[43m,\u001b[49m\u001b[43m \u001b[49m\u001b[43m_data_dict\u001b[49m\u001b[43m[\u001b[49m\u001b[43m_key\u001b[49m\u001b[43m]\u001b[49m\u001b[43m)\u001b[49m\n\u001b[32m    413\u001b[39m \u001b[38;5;28;01melif\u001b[39;00m _data \u001b[38;5;129;01mis\u001b[39;00m \u001b[38;5;129;01mnot\u001b[39;00m \u001b[38;5;28;01mNone\u001b[39;00m:\n\u001b[32m    414\u001b[39m     ostream.write(_data)\n",
      "\u001b[36mFile \u001b[39m\u001b[32mc:\\Python\\Lib\\site-packages\\pyomo\\core\\base\\block.py:2249\u001b[39m, in \u001b[36mBlock._pprint_callback\u001b[39m\u001b[34m(self, ostream, idx, data)\u001b[39m\n\u001b[32m   2247\u001b[39m ostream.write(\u001b[33m\"\u001b[39m\u001b[38;5;132;01m%s\u001b[39;00m\u001b[33m : Active=\u001b[39m\u001b[38;5;132;01m%s\u001b[39;00m\u001b[38;5;130;01m\\n\u001b[39;00m\u001b[33m\"\u001b[39m % (data.name, data.active))\n\u001b[32m   2248\u001b[39m ostream = StreamIndenter(ostream, \u001b[38;5;28mself\u001b[39m._PPRINT_INDENT)\n\u001b[32m-> \u001b[39m\u001b[32m2249\u001b[39m \u001b[43mdata\u001b[49m\u001b[43m.\u001b[49m\u001b[43m_pprint_blockdata_components\u001b[49m\u001b[43m(\u001b[49m\u001b[43mostream\u001b[49m\u001b[43m)\u001b[49m\n",
      "\u001b[36mFile \u001b[39m\u001b[32mc:\\Python\\Lib\\site-packages\\pyomo\\core\\base\\block.py:1866\u001b[39m, in \u001b[36mBlockData._pprint_blockdata_components\u001b[39m\u001b[34m(self, ostream)\u001b[39m\n\u001b[32m   1864\u001b[39m     ostream.write(\u001b[33m\"\u001b[39m\u001b[38;5;132;01m%d\u001b[39;00m\u001b[33m \u001b[39m\u001b[38;5;132;01m%s\u001b[39;00m\u001b[33m Declarations\u001b[39m\u001b[38;5;130;01m\\n\u001b[39;00m\u001b[33m\"\u001b[39m % (\u001b[38;5;28mlen\u001b[39m(keys), item.\u001b[34m__name__\u001b[39m))\n\u001b[32m   1865\u001b[39m     \u001b[38;5;28;01mfor\u001b[39;00m key \u001b[38;5;129;01min\u001b[39;00m keys:\n\u001b[32m-> \u001b[39m\u001b[32m1866\u001b[39m         \u001b[38;5;28;43mself\u001b[39;49m\u001b[43m.\u001b[49m\u001b[43mcomponent\u001b[49m\u001b[43m(\u001b[49m\u001b[43mkey\u001b[49m\u001b[43m)\u001b[49m\u001b[43m.\u001b[49m\u001b[43mpprint\u001b[49m\u001b[43m(\u001b[49m\u001b[43mostream\u001b[49m\u001b[43m=\u001b[49m\u001b[43mindented_ostream\u001b[49m\u001b[43m)\u001b[49m\n\u001b[32m   1867\u001b[39m     ostream.write(\u001b[33m\"\u001b[39m\u001b[38;5;130;01m\\n\u001b[39;00m\u001b[33m\"\u001b[39m)\n\u001b[32m   1868\u001b[39m \u001b[38;5;66;03m#\u001b[39;00m\n\u001b[32m   1869\u001b[39m \u001b[38;5;66;03m# Model Order\u001b[39;00m\n\u001b[32m   1870\u001b[39m \u001b[38;5;66;03m#\u001b[39;00m\n",
      "\u001b[36mFile \u001b[39m\u001b[32mc:\\Python\\Lib\\site-packages\\pyomo\\core\\base\\component.py:515\u001b[39m, in \u001b[36mComponent.pprint\u001b[39m\u001b[34m(self, ostream, verbose, prefix)\u001b[39m\n\u001b[32m    513\u001b[39m \u001b[38;5;28;01mdef\u001b[39;00m\u001b[38;5;250m \u001b[39m\u001b[34mpprint\u001b[39m(\u001b[38;5;28mself\u001b[39m, ostream=\u001b[38;5;28;01mNone\u001b[39;00m, verbose=\u001b[38;5;28;01mFalse\u001b[39;00m, prefix=\u001b[33m\"\u001b[39m\u001b[33m\"\u001b[39m):\n\u001b[32m    514\u001b[39m \u001b[38;5;250m    \u001b[39m\u001b[33;03m\"\"\"Print component information\"\"\"\u001b[39;00m\n\u001b[32m--> \u001b[39m\u001b[32m515\u001b[39m     \u001b[38;5;28;43mself\u001b[39;49m\u001b[43m.\u001b[49m\u001b[43m_pprint_base_impl\u001b[49m\u001b[43m(\u001b[49m\n\u001b[32m    516\u001b[39m \u001b[43m        \u001b[49m\u001b[43mostream\u001b[49m\u001b[43m,\u001b[49m\n\u001b[32m    517\u001b[39m \u001b[43m        \u001b[49m\u001b[43mverbose\u001b[49m\u001b[43m,\u001b[49m\n\u001b[32m    518\u001b[39m \u001b[43m        \u001b[49m\u001b[43mprefix\u001b[49m\u001b[43m,\u001b[49m\n\u001b[32m    519\u001b[39m \u001b[43m        \u001b[49m\u001b[38;5;28;43mself\u001b[39;49m\u001b[43m.\u001b[49m\u001b[43mlocal_name\u001b[49m\u001b[43m,\u001b[49m\n\u001b[32m    520\u001b[39m \u001b[43m        \u001b[49m\u001b[38;5;28;43mself\u001b[39;49m\u001b[43m.\u001b[49m\u001b[43mdoc\u001b[49m\u001b[43m,\u001b[49m\n\u001b[32m    521\u001b[39m \u001b[43m        \u001b[49m\u001b[38;5;28;43mself\u001b[39;49m\u001b[43m.\u001b[49m\u001b[43mis_constructed\u001b[49m\u001b[43m(\u001b[49m\u001b[43m)\u001b[49m\u001b[43m,\u001b[49m\n\u001b[32m    522\u001b[39m \u001b[43m        \u001b[49m\u001b[43m*\u001b[49m\u001b[38;5;28;43mself\u001b[39;49m\u001b[43m.\u001b[49m\u001b[43m_pprint\u001b[49m\u001b[43m(\u001b[49m\u001b[43m)\u001b[49m\n\u001b[32m    523\u001b[39m \u001b[43m    \u001b[49m\u001b[43m)\u001b[49m\n",
      "\u001b[36mFile \u001b[39m\u001b[32mc:\\Python\\Lib\\site-packages\\pyomo\\core\\base\\component.py:405\u001b[39m, in \u001b[36mComponentBase._pprint_base_impl\u001b[39m\u001b[34m(self, ostream, verbose, prefix, _name, _doc, _constructed, _attr, _data, _header, _fcn)\u001b[39m\n\u001b[32m    403\u001b[39m     _data_dict = \u001b[38;5;28mdict\u001b[39m(_data)\n\u001b[32m    404\u001b[39m     _data = _data_dict.items()\n\u001b[32m--> \u001b[39m\u001b[32m405\u001b[39m \u001b[43mtabular_writer\u001b[49m\u001b[43m(\u001b[49m\u001b[43mostream\u001b[49m\u001b[43m,\u001b[49m\u001b[43m \u001b[49m\u001b[33;43m'\u001b[39;49m\u001b[33;43m'\u001b[39;49m\u001b[43m,\u001b[49m\u001b[43m \u001b[49m\u001b[43m_data\u001b[49m\u001b[43m,\u001b[49m\u001b[43m \u001b[49m\u001b[43m_header\u001b[49m\u001b[43m,\u001b[49m\u001b[43m \u001b[49m\u001b[43m_fcn\u001b[49m\u001b[43m)\u001b[49m\n\u001b[32m    406\u001b[39m \u001b[38;5;28;01mif\u001b[39;00m _fcn2 \u001b[38;5;129;01mis\u001b[39;00m \u001b[38;5;129;01mnot\u001b[39;00m \u001b[38;5;28;01mNone\u001b[39;00m:\n\u001b[32m    407\u001b[39m     \u001b[38;5;28;01mfor\u001b[39;00m _key \u001b[38;5;129;01min\u001b[39;00m sorted_robust(_data_dict):\n",
      "\u001b[36mFile \u001b[39m\u001b[32mc:\\Python\\Lib\\site-packages\\pyomo\\common\\formatting.py:194\u001b[39m, in \u001b[36mtabular_writer\u001b[39m\u001b[34m(ostream, prefix, data, header, row_generator)\u001b[39m\n\u001b[32m    192\u001b[39m     _rowSet = [[_key] + [\u001b[38;5;28;01mNone\u001b[39;00m] * (\u001b[38;5;28mlen\u001b[39m(_width) - \u001b[32m1\u001b[39m)]\n\u001b[32m    193\u001b[39m \u001b[38;5;28;01mfor\u001b[39;00m _data \u001b[38;5;129;01min\u001b[39;00m _rowSet:\n\u001b[32m--> \u001b[39m\u001b[32m194\u001b[39m     \u001b[43mostream\u001b[49m\u001b[43m.\u001b[49m\u001b[43mwrite\u001b[49m\u001b[43m(\u001b[49m\n\u001b[32m    195\u001b[39m \u001b[43m        \u001b[49m\u001b[43mprefix\u001b[49m\u001b[43m \u001b[49m\u001b[43m+\u001b[49m\u001b[43m \u001b[49m\u001b[33;43m\"\u001b[39;49m\u001b[33;43m : \u001b[39;49m\u001b[33;43m\"\u001b[39;49m\u001b[43m.\u001b[49m\u001b[43mjoin\u001b[49m\u001b[43m(\u001b[49m\u001b[43m_width\u001b[49m\u001b[43m[\u001b[49m\u001b[43mi\u001b[49m\u001b[43m]\u001b[49m\u001b[43m \u001b[49m\u001b[43m%\u001b[49m\u001b[43m \u001b[49m\u001b[43mx\u001b[49m\u001b[43m \u001b[49m\u001b[38;5;28;43;01mfor\u001b[39;49;00m\u001b[43m \u001b[49m\u001b[43mi\u001b[49m\u001b[43m,\u001b[49m\u001b[43m \u001b[49m\u001b[43mx\u001b[49m\u001b[43m \u001b[49m\u001b[38;5;129;43;01min\u001b[39;49;00m\u001b[43m \u001b[49m\u001b[38;5;28;43menumerate\u001b[39;49m\u001b[43m(\u001b[49m\u001b[43m_data\u001b[49m\u001b[43m)\u001b[49m\u001b[43m)\u001b[49m\u001b[43m \u001b[49m\u001b[43m+\u001b[49m\u001b[43m \u001b[49m\u001b[33;43m\"\u001b[39;49m\u001b[38;5;130;43;01m\\n\u001b[39;49;00m\u001b[33;43m\"\u001b[39;49m\n\u001b[32m    196\u001b[39m \u001b[43m    \u001b[49m\u001b[43m)\u001b[49m\n",
      "\u001b[36mFile \u001b[39m\u001b[32mc:\\Python\\Lib\\site-packages\\pyomo\\common\\formatting.py:222\u001b[39m, in \u001b[36mStreamIndenter.write\u001b[39m\u001b[34m(self, data)\u001b[39m\n\u001b[32m    220\u001b[39m \u001b[38;5;28;01mif\u001b[39;00m \u001b[38;5;28mself\u001b[39m.newline:\n\u001b[32m    221\u001b[39m     \u001b[38;5;28;01mif\u001b[39;00m lines[\u001b[32m0\u001b[39m]:\n\u001b[32m--> \u001b[39m\u001b[32m222\u001b[39m         \u001b[38;5;28;43mself\u001b[39;49m\u001b[43m.\u001b[49m\u001b[43mos\u001b[49m\u001b[43m.\u001b[49m\u001b[43mwrite\u001b[49m\u001b[43m(\u001b[49m\u001b[38;5;28;43mself\u001b[39;49m\u001b[43m.\u001b[49m\u001b[43mindent\u001b[49m\u001b[43m \u001b[49m\u001b[43m+\u001b[49m\u001b[43m \u001b[49m\u001b[43mlines\u001b[49m\u001b[43m[\u001b[49m\u001b[32;43m0\u001b[39;49m\u001b[43m]\u001b[49m\u001b[43m)\u001b[49m\n\u001b[32m    223\u001b[39m     \u001b[38;5;28;01melse\u001b[39;00m:\n\u001b[32m    224\u001b[39m         \u001b[38;5;28mself\u001b[39m.os.write(\u001b[38;5;28mself\u001b[39m.stripped_indent)\n",
      "\u001b[36mFile \u001b[39m\u001b[32mc:\\Python\\Lib\\site-packages\\pyomo\\common\\formatting.py:222\u001b[39m, in \u001b[36mStreamIndenter.write\u001b[39m\u001b[34m(self, data)\u001b[39m\n\u001b[32m    220\u001b[39m \u001b[38;5;28;01mif\u001b[39;00m \u001b[38;5;28mself\u001b[39m.newline:\n\u001b[32m    221\u001b[39m     \u001b[38;5;28;01mif\u001b[39;00m lines[\u001b[32m0\u001b[39m]:\n\u001b[32m--> \u001b[39m\u001b[32m222\u001b[39m         \u001b[38;5;28;43mself\u001b[39;49m\u001b[43m.\u001b[49m\u001b[43mos\u001b[49m\u001b[43m.\u001b[49m\u001b[43mwrite\u001b[49m\u001b[43m(\u001b[49m\u001b[38;5;28;43mself\u001b[39;49m\u001b[43m.\u001b[49m\u001b[43mindent\u001b[49m\u001b[43m \u001b[49m\u001b[43m+\u001b[49m\u001b[43m \u001b[49m\u001b[43mlines\u001b[49m\u001b[43m[\u001b[49m\u001b[32;43m0\u001b[39;49m\u001b[43m]\u001b[49m\u001b[43m)\u001b[49m\n\u001b[32m    223\u001b[39m     \u001b[38;5;28;01melse\u001b[39;00m:\n\u001b[32m    224\u001b[39m         \u001b[38;5;28mself\u001b[39m.os.write(\u001b[38;5;28mself\u001b[39m.stripped_indent)\n",
      "    \u001b[31m[... skipping similar frames: StreamIndenter.write at line 222 (7 times)]\u001b[39m\n",
      "\u001b[36mFile \u001b[39m\u001b[32mc:\\Python\\Lib\\site-packages\\pyomo\\common\\formatting.py:222\u001b[39m, in \u001b[36mStreamIndenter.write\u001b[39m\u001b[34m(self, data)\u001b[39m\n\u001b[32m    220\u001b[39m \u001b[38;5;28;01mif\u001b[39;00m \u001b[38;5;28mself\u001b[39m.newline:\n\u001b[32m    221\u001b[39m     \u001b[38;5;28;01mif\u001b[39;00m lines[\u001b[32m0\u001b[39m]:\n\u001b[32m--> \u001b[39m\u001b[32m222\u001b[39m         \u001b[38;5;28;43mself\u001b[39;49m\u001b[43m.\u001b[49m\u001b[43mos\u001b[49m\u001b[43m.\u001b[49m\u001b[43mwrite\u001b[49m\u001b[43m(\u001b[49m\u001b[38;5;28;43mself\u001b[39;49m\u001b[43m.\u001b[49m\u001b[43mindent\u001b[49m\u001b[43m \u001b[49m\u001b[43m+\u001b[49m\u001b[43m \u001b[49m\u001b[43mlines\u001b[49m\u001b[43m[\u001b[49m\u001b[32;43m0\u001b[39;49m\u001b[43m]\u001b[49m\u001b[43m)\u001b[49m\n\u001b[32m    223\u001b[39m     \u001b[38;5;28;01melse\u001b[39;00m:\n\u001b[32m    224\u001b[39m         \u001b[38;5;28mself\u001b[39m.os.write(\u001b[38;5;28mself\u001b[39m.stripped_indent)\n",
      "\u001b[31mMemoryError\u001b[39m: "
     ]
    }
   ],
   "source": [
    "m = adopt.ModelHub()\n",
    "m.read_data(input_data_path_baseline)\n",
    "result_baseline = m.quick_solve()\n",
    "print(\"✓ Baseline scenario completed\")"
   ]
  },
  {
   "cell_type": "markdown",
   "id": "a2d10967",
   "metadata": {},
   "source": [
    "==============================================================================================================================="
   ]
  },
  {
   "cell_type": "code",
   "execution_count": null,
   "id": "31f04d77",
   "metadata": {},
   "outputs": [],
   "source": [
    "## Scenario 2: ETS1 Only\n",
    "# Create ETS1 scenario by copying baseline and modifying carbon costs\n",
    "input_data_path_ets1 = Path(\"./italy_ets1\")\n",
    "import shutil\n",
    "shutil.copytree(input_data_path_baseline, input_data_path_ets1, dirs_exist_ok=True)\n",
    "\n",
    "# Set ETS1 carbon prices (EUR/t CO2)\n",
    "ets1_prices = {\"period1\": 85, \"period2\": 120, \"period3\": 160}"
   ]
  },
  {
   "cell_type": "code",
   "execution_count": null,
   "id": "4257817a",
   "metadata": {},
   "outputs": [],
   "source": [
    "\n",
    "for period in [\"period1\", \"period2\", \"period3\"]:\n",
    "    for node in [\"Northwest\", \"Northeast\", \"Center\", \"South\", \"Islands\"]:\n",
    "        # Update carbon costs for ETS1\n",
    "        carbon_cost_path = input_data_path_ets1 / period / \"node_data\" / node / \"CarbonCost.csv\"\n",
    "        carbon_cost = pd.read_csv(carbon_cost_path, sep=';', index_col=0, header=0)\n",
    "        carbon_cost['price'] = np.ones(8760) * ets1_prices[period]\n",
    "        carbon_cost = carbon_cost.reset_index()\n",
    "        carbon_cost.to_csv(carbon_cost_path, sep=';', index=False)\n",
    "        \n",
    "        # Update gas prices to include ETS1 carbon cost\n",
    "        gas_carbon_cost = ets1_prices[period] * 0.202  # 0.202 t CO2/MWh for gas\n",
    "        adopt.fill_carrier_data(input_data_path_ets1, value_or_data=80 + gas_carbon_cost, columns=['Import price'], carriers=['gas'], nodes=[node], periods=[period])\n"
   ]
  },
  {
   "cell_type": "code",
   "execution_count": null,
   "id": "7b112ffc",
   "metadata": {},
   "outputs": [],
   "source": [
    "# Run ETS1 model\n",
    "m_ets1 = adopt.ModelHub()\n",
    "m_ets1.read_data(input_data_path_ets1)\n",
    "result_ets1 = m_ets1.quick_solve()\n",
    "print(\"✓ ETS1 scenario completed\")"
   ]
  },
  {
   "cell_type": "code",
   "execution_count": null,
   "id": "b9a49c57",
   "metadata": {},
   "outputs": [],
   "source": [
    "## Scenario 3: ETS1 + ETS2\n",
    "# Create ETS1+ETS2 scenario\n",
    "input_data_path_ets12 = Path(\"./italy_ets1_ets2\")\n",
    "shutil.copytree(input_data_path_ets1, input_data_path_ets12, dirs_exist_ok=True)\n",
    "\n",
    "\n",
    "# Set ETS2 additional carbon prices\n",
    "ets2_additional = {\"period1\": 30, \"period2\": 50, \"period3\": 70}"
   ]
  },
  {
   "cell_type": "code",
   "execution_count": null,
   "id": "6fc27749",
   "metadata": {},
   "outputs": [],
   "source": [
    "for period in [\"period1\", \"period2\", \"period3\"]:\n",
    "    for node in [\"Northwest\", \"Northeast\", \"Center\", \"South\", \"Islands\"]:\n",
    "        # Update carbon costs for ETS1 + ETS2 (use higher price)\n",
    "        total_carbon_price = max(ets1_prices[period], ets1_prices[period] + ets2_additional[period])\n",
    "        \n",
    "        carbon_cost_path = input_data_path_ets12 / period / \"node_data\" / node / \"CarbonCost.csv\"\n",
    "        carbon_cost = pd.read_csv(carbon_cost_path, sep=';', index_col=0, header=0)\n",
    "        carbon_cost['price'] = np.ones(8760) * total_carbon_price\n",
    "        carbon_cost = carbon_cost.reset_index()\n",
    "        carbon_cost.to_csv(carbon_cost_path, sep=';', index=False)\n",
    "        \n",
    "        # Update gas prices for residential heating (ETS2 impact)\n",
    "        gas_ets2_cost = (ets1_prices[period] + ets2_additional[period]) * 0.202\n",
    "        adopt.fill_carrier_data(input_data_path_ets12, value_or_data=80 + gas_ets2_cost, columns=['Import price'], carriers=['gas'], nodes=[node], periods=[period])"
   ]
  },
  {
   "cell_type": "code",
   "execution_count": null,
   "id": "d801701f",
   "metadata": {},
   "outputs": [],
   "source": [
    "# Run ETS1+ETS2 model\n",
    "m_ets12 = adopt.ModelHub()\n",
    "m_ets12.read_data(input_data_path_ets12)\n",
    "result_ets12 = m_ets12.quick_solve()\n",
    "print(\"ETS1 + ETS2 scenario completed\")"
   ]
  },
  {
   "cell_type": "code",
   "execution_count": null,
   "id": "f39e6e80",
   "metadata": {},
   "outputs": [],
   "source": [
    "# Extract key results\n",
    "scenarios = [\"Baseline\", \"ETS1 Only\", \"ETS1 + ETS2\"]\n",
    "models = [m, m_ets1, m_ets12]\n",
    "results = [result_baseline, result_ets1, result_ets12]"
   ]
  },
  {
   "cell_type": "code",
   "execution_count": null,
   "id": "df6b9844",
   "metadata": {},
   "outputs": [],
   "source": [
    "# Create results summary\n",
    "results_summary = {\n",
    "    'Scenario': scenarios,\n",
    "    'Total_Cost_Billion_EUR': [],\n",
    "    'Status': []\n",
    "}\n",
    "\n",
    "for i, (scenario, model, result) in enumerate(zip(scenarios, models, results)):\n",
    "    print(f\"\\n{scenario}:\")\n",
    "    if hasattr(result, 'best_objective'):\n",
    "        cost_billion = result.best_objective / 1e9\n",
    "        results_summary['Total_Cost_Billion_EUR'].append(round(cost_billion, 2))\n",
    "        results_summary['Status'].append('Optimal')\n",
    "        print(f\"  Total Cost: {cost_billion:.2f} billion EUR\")\n",
    "    else:\n",
    "        results_summary['Total_Cost_Billion_EUR'].append(0)\n",
    "        results_summary['Status'].append('Not solved')\n",
    "        print(f\"  Status: {result}\")\n"
   ]
  },
  {
   "cell_type": "code",
   "execution_count": null,
   "id": "85eb52be",
   "metadata": {},
   "outputs": [],
   "source": [
    "# Save results summary\n",
    "results_df = pd.DataFrame(results_summary)\n",
    "results_df.to_csv(results_data_path / \"italy_ets_comparison.csv\", index=False)\n"
   ]
  }
 ],
 "metadata": {
  "kernelspec": {
   "display_name": "Python 3",
   "language": "python",
   "name": "python3"
  },
  "language_info": {
   "codemirror_mode": {
    "name": "ipython",
    "version": 3
   },
   "file_extension": ".py",
   "mimetype": "text/x-python",
   "name": "python",
   "nbconvert_exporter": "python",
   "pygments_lexer": "ipython3",
   "version": "3.13.3"
  }
 },
 "nbformat": 4,
 "nbformat_minor": 5
}
